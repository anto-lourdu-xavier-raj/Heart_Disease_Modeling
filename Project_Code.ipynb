{
  "cells": [
    {
      "cell_type": "markdown",
      "id": "395a2b8c",
      "metadata": {
        "papermill": {
          "duration": 0.013984,
          "end_time": "2024-03-28T17:20:29.850333",
          "exception": false,
          "start_time": "2024-03-28T17:20:29.836349",
          "status": "completed"
        },
        "tags": [],
        "id": "395a2b8c"
      },
      "source": [
        "* ### Import Required Libraries"
      ]
    },
    {
      "cell_type": "code",
      "execution_count": 25,
      "id": "3a0606f5",
      "metadata": {
        "execution": {
          "iopub.execute_input": "2024-03-28T17:20:29.881672Z",
          "iopub.status.busy": "2024-03-28T17:20:29.881019Z",
          "iopub.status.idle": "2024-03-28T17:20:33.969804Z",
          "shell.execute_reply": "2024-03-28T17:20:33.968401Z"
        },
        "papermill": {
          "duration": 4.107422,
          "end_time": "2024-03-28T17:20:33.972419",
          "exception": false,
          "start_time": "2024-03-28T17:20:29.864997",
          "status": "completed"
        },
        "tags": [],
        "colab": {
          "base_uri": "https://localhost:8080/"
        },
        "id": "3a0606f5",
        "outputId": "cf58688c-0180-415e-ef43-4915bd2249e8"
      },
      "outputs": [
        {
          "output_type": "stream",
          "name": "stdout",
          "text": [
            "Requirement already satisfied: catboost in /usr/local/lib/python3.10/dist-packages (1.2.5)\n",
            "Requirement already satisfied: graphviz in /usr/local/lib/python3.10/dist-packages (from catboost) (0.20.3)\n",
            "Requirement already satisfied: matplotlib in /usr/local/lib/python3.10/dist-packages (from catboost) (3.7.1)\n",
            "Requirement already satisfied: numpy>=1.16.0 in /usr/local/lib/python3.10/dist-packages (from catboost) (1.25.2)\n",
            "Requirement already satisfied: pandas>=0.24 in /usr/local/lib/python3.10/dist-packages (from catboost) (2.0.3)\n",
            "Requirement already satisfied: scipy in /usr/local/lib/python3.10/dist-packages (from catboost) (1.11.4)\n",
            "Requirement already satisfied: plotly in /usr/local/lib/python3.10/dist-packages (from catboost) (5.15.0)\n",
            "Requirement already satisfied: six in /usr/local/lib/python3.10/dist-packages (from catboost) (1.16.0)\n",
            "Requirement already satisfied: python-dateutil>=2.8.2 in /usr/local/lib/python3.10/dist-packages (from pandas>=0.24->catboost) (2.8.2)\n",
            "Requirement already satisfied: pytz>=2020.1 in /usr/local/lib/python3.10/dist-packages (from pandas>=0.24->catboost) (2023.4)\n",
            "Requirement already satisfied: tzdata>=2022.1 in /usr/local/lib/python3.10/dist-packages (from pandas>=0.24->catboost) (2024.1)\n",
            "Requirement already satisfied: contourpy>=1.0.1 in /usr/local/lib/python3.10/dist-packages (from matplotlib->catboost) (1.2.1)\n",
            "Requirement already satisfied: cycler>=0.10 in /usr/local/lib/python3.10/dist-packages (from matplotlib->catboost) (0.12.1)\n",
            "Requirement already satisfied: fonttools>=4.22.0 in /usr/local/lib/python3.10/dist-packages (from matplotlib->catboost) (4.51.0)\n",
            "Requirement already satisfied: kiwisolver>=1.0.1 in /usr/local/lib/python3.10/dist-packages (from matplotlib->catboost) (1.4.5)\n",
            "Requirement already satisfied: packaging>=20.0 in /usr/local/lib/python3.10/dist-packages (from matplotlib->catboost) (24.0)\n",
            "Requirement already satisfied: pillow>=6.2.0 in /usr/local/lib/python3.10/dist-packages (from matplotlib->catboost) (9.4.0)\n",
            "Requirement already satisfied: pyparsing>=2.3.1 in /usr/local/lib/python3.10/dist-packages (from matplotlib->catboost) (3.1.2)\n",
            "Requirement already satisfied: tenacity>=6.2.0 in /usr/local/lib/python3.10/dist-packages (from plotly->catboost) (8.2.3)\n",
            "Requirement already satisfied: scikit-optimize in /usr/local/lib/python3.10/dist-packages (0.10.1)\n",
            "Requirement already satisfied: joblib>=0.11 in /usr/local/lib/python3.10/dist-packages (from scikit-optimize) (1.4.0)\n",
            "Requirement already satisfied: pyaml>=16.9 in /usr/local/lib/python3.10/dist-packages (from scikit-optimize) (24.4.0)\n",
            "Requirement already satisfied: numpy>=1.20.3 in /usr/local/lib/python3.10/dist-packages (from scikit-optimize) (1.25.2)\n",
            "Requirement already satisfied: scipy>=1.1.0 in /usr/local/lib/python3.10/dist-packages (from scikit-optimize) (1.11.4)\n",
            "Requirement already satisfied: scikit-learn>=1.0.0 in /usr/local/lib/python3.10/dist-packages (from scikit-optimize) (1.2.2)\n",
            "Requirement already satisfied: packaging>=21.3 in /usr/local/lib/python3.10/dist-packages (from scikit-optimize) (24.0)\n",
            "Requirement already satisfied: PyYAML in /usr/local/lib/python3.10/dist-packages (from pyaml>=16.9->scikit-optimize) (6.0.1)\n",
            "Requirement already satisfied: threadpoolctl>=2.0.0 in /usr/local/lib/python3.10/dist-packages (from scikit-learn>=1.0.0->scikit-optimize) (3.4.0)\n",
            "Completed.\n"
          ]
        }
      ],
      "source": [
        "import time\n",
        "import pandas as pd\n",
        "import numpy as np\n",
        "import scipy as sp\n",
        "import scipy.stats as stats\n",
        "import matplotlib.pyplot as plt\n",
        "import seaborn as sns\n",
        "import sklearn\n",
        "import sklearn.model_selection\n",
        "from sklearn.preprocessing import LabelEncoder\n",
        "from sklearn.manifold import TSNE\n",
        "\n",
        "%pip install catboost\n",
        "%pip install scikit-optimize\n",
        "\n",
        "# evalue measures\n",
        "from sklearn.metrics import f1_score\n",
        "from sklearn.metrics import accuracy_score\n",
        "from sklearn.metrics import precision_score\n",
        "from sklearn.metrics import recall_score\n",
        "from sklearn.metrics import confusion_matrix\n",
        "from sklearn.metrics import classification_report\n",
        "from sklearn.model_selection import train_test_split\n",
        "\n",
        "from sklearn.neighbors import KNeighborsClassifier\n",
        "from sklearn.linear_model import LogisticRegression\n",
        "from sklearn.tree import DecisionTreeClassifier\n",
        "from sklearn.ensemble import RandomForestClassifier\n",
        "from sklearn.svm import SVC\n",
        "from sklearn.ensemble import GradientBoostingClassifier\n",
        "import xgboost as xgb\n",
        "import lightgbm as lgbm\n",
        "from sklearn.neural_network import MLPClassifier\n",
        "from sklearn.ensemble import RandomForestClassifier\n",
        "from sklearn.ensemble import ExtraTreesClassifier\n",
        "from sklearn.ensemble import AdaBoostClassifier\n",
        "from sklearn.discriminant_analysis import LinearDiscriminantAnalysis\n",
        "from sklearn.discriminant_analysis import QuadraticDiscriminantAnalysis\n",
        "from sklearn.naive_bayes import GaussianNB\n",
        "from sklearn.linear_model import SGDClassifier\n",
        "from catboost import CatBoostClassifier\n",
        "\n",
        "from skopt import gp_minimize\n",
        "from skopt.space import Real, Integer\n",
        "from skopt.utils import use_named_args\n",
        "from skopt.plots import plot_convergence\n",
        "\n",
        "import seaborn as sns\n",
        "sns.set_style(\"darkgrid\")\n",
        "\n",
        "import warnings\n",
        "warnings.filterwarnings(\"ignore\")\n",
        "\n",
        "print('Completed.')\n"
      ]
    },
    {
      "cell_type": "code",
      "execution_count": 26,
      "id": "3d94a4fe",
      "metadata": {
        "execution": {
          "iopub.execute_input": "2024-03-28T17:20:34.005263Z",
          "iopub.status.busy": "2024-03-28T17:20:34.004600Z",
          "iopub.status.idle": "2024-03-28T17:20:35.205826Z",
          "shell.execute_reply": "2024-03-28T17:20:35.204516Z"
        },
        "papermill": {
          "duration": 1.220858,
          "end_time": "2024-03-28T17:20:35.208669",
          "exception": false,
          "start_time": "2024-03-28T17:20:33.987811",
          "status": "completed"
        },
        "tags": [],
        "colab": {
          "base_uri": "https://localhost:8080/",
          "height": 444
        },
        "id": "3d94a4fe",
        "outputId": "e6fbd987-a3a7-4e8b-dbe1-45353fbbecf9"
      },
      "outputs": [
        {
          "output_type": "execute_result",
          "data": {
            "text/plain": [
              "        HeartDiseaseorAttack  HighBP  HighChol  CholCheck   BMI  Smoker  \\\n",
              "0                        0.0     1.0       1.0        1.0  40.0     1.0   \n",
              "1                        0.0     0.0       0.0        0.0  25.0     1.0   \n",
              "2                        0.0     1.0       1.0        1.0  28.0     0.0   \n",
              "3                        0.0     1.0       0.0        1.0  27.0     0.0   \n",
              "4                        0.0     1.0       1.0        1.0  24.0     0.0   \n",
              "...                      ...     ...       ...        ...   ...     ...   \n",
              "253675                   0.0     1.0       1.0        1.0  45.0     0.0   \n",
              "253676                   0.0     1.0       1.0        1.0  18.0     0.0   \n",
              "253677                   0.0     0.0       0.0        1.0  28.0     0.0   \n",
              "253678                   0.0     1.0       0.0        1.0  23.0     0.0   \n",
              "253679                   1.0     1.0       1.0        1.0  25.0     0.0   \n",
              "\n",
              "        Stroke  Diabetes  PhysActivity  Fruits  ...  AnyHealthcare  \\\n",
              "0          0.0       0.0           0.0     0.0  ...            1.0   \n",
              "1          0.0       0.0           1.0     0.0  ...            0.0   \n",
              "2          0.0       0.0           0.0     1.0  ...            1.0   \n",
              "3          0.0       0.0           1.0     1.0  ...            1.0   \n",
              "4          0.0       0.0           1.0     1.0  ...            1.0   \n",
              "...        ...       ...           ...     ...  ...            ...   \n",
              "253675     0.0       0.0           0.0     1.0  ...            1.0   \n",
              "253676     0.0       2.0           0.0     0.0  ...            1.0   \n",
              "253677     0.0       0.0           1.0     1.0  ...            1.0   \n",
              "253678     0.0       0.0           0.0     1.0  ...            1.0   \n",
              "253679     0.0       2.0           1.0     1.0  ...            1.0   \n",
              "\n",
              "        NoDocbcCost  GenHlth  MentHlth  PhysHlth  DiffWalk  Sex   Age  \\\n",
              "0               0.0      5.0      18.0      15.0       1.0  0.0   9.0   \n",
              "1               1.0      3.0       0.0       0.0       0.0  0.0   7.0   \n",
              "2               1.0      5.0      30.0      30.0       1.0  0.0   9.0   \n",
              "3               0.0      2.0       0.0       0.0       0.0  0.0  11.0   \n",
              "4               0.0      2.0       3.0       0.0       0.0  0.0  11.0   \n",
              "...             ...      ...       ...       ...       ...  ...   ...   \n",
              "253675          0.0      3.0       0.0       5.0       0.0  1.0   5.0   \n",
              "253676          0.0      4.0       0.0       0.0       1.0  0.0  11.0   \n",
              "253677          0.0      1.0       0.0       0.0       0.0  0.0   2.0   \n",
              "253678          0.0      3.0       0.0       0.0       0.0  1.0   7.0   \n",
              "253679          0.0      2.0       0.0       0.0       0.0  0.0   9.0   \n",
              "\n",
              "        Education  Income  \n",
              "0             4.0     3.0  \n",
              "1             6.0     1.0  \n",
              "2             4.0     8.0  \n",
              "3             3.0     6.0  \n",
              "4             5.0     4.0  \n",
              "...           ...     ...  \n",
              "253675        6.0     7.0  \n",
              "253676        2.0     4.0  \n",
              "253677        5.0     2.0  \n",
              "253678        5.0     1.0  \n",
              "253679        6.0     2.0  \n",
              "\n",
              "[253680 rows x 22 columns]"
            ],
            "text/html": [
              "\n",
              "  <div id=\"df-5ab8f3a4-30ef-4d18-819c-e215397cc3f2\" class=\"colab-df-container\">\n",
              "    <div>\n",
              "<style scoped>\n",
              "    .dataframe tbody tr th:only-of-type {\n",
              "        vertical-align: middle;\n",
              "    }\n",
              "\n",
              "    .dataframe tbody tr th {\n",
              "        vertical-align: top;\n",
              "    }\n",
              "\n",
              "    .dataframe thead th {\n",
              "        text-align: right;\n",
              "    }\n",
              "</style>\n",
              "<table border=\"1\" class=\"dataframe\">\n",
              "  <thead>\n",
              "    <tr style=\"text-align: right;\">\n",
              "      <th></th>\n",
              "      <th>HeartDiseaseorAttack</th>\n",
              "      <th>HighBP</th>\n",
              "      <th>HighChol</th>\n",
              "      <th>CholCheck</th>\n",
              "      <th>BMI</th>\n",
              "      <th>Smoker</th>\n",
              "      <th>Stroke</th>\n",
              "      <th>Diabetes</th>\n",
              "      <th>PhysActivity</th>\n",
              "      <th>Fruits</th>\n",
              "      <th>...</th>\n",
              "      <th>AnyHealthcare</th>\n",
              "      <th>NoDocbcCost</th>\n",
              "      <th>GenHlth</th>\n",
              "      <th>MentHlth</th>\n",
              "      <th>PhysHlth</th>\n",
              "      <th>DiffWalk</th>\n",
              "      <th>Sex</th>\n",
              "      <th>Age</th>\n",
              "      <th>Education</th>\n",
              "      <th>Income</th>\n",
              "    </tr>\n",
              "  </thead>\n",
              "  <tbody>\n",
              "    <tr>\n",
              "      <th>0</th>\n",
              "      <td>0.0</td>\n",
              "      <td>1.0</td>\n",
              "      <td>1.0</td>\n",
              "      <td>1.0</td>\n",
              "      <td>40.0</td>\n",
              "      <td>1.0</td>\n",
              "      <td>0.0</td>\n",
              "      <td>0.0</td>\n",
              "      <td>0.0</td>\n",
              "      <td>0.0</td>\n",
              "      <td>...</td>\n",
              "      <td>1.0</td>\n",
              "      <td>0.0</td>\n",
              "      <td>5.0</td>\n",
              "      <td>18.0</td>\n",
              "      <td>15.0</td>\n",
              "      <td>1.0</td>\n",
              "      <td>0.0</td>\n",
              "      <td>9.0</td>\n",
              "      <td>4.0</td>\n",
              "      <td>3.0</td>\n",
              "    </tr>\n",
              "    <tr>\n",
              "      <th>1</th>\n",
              "      <td>0.0</td>\n",
              "      <td>0.0</td>\n",
              "      <td>0.0</td>\n",
              "      <td>0.0</td>\n",
              "      <td>25.0</td>\n",
              "      <td>1.0</td>\n",
              "      <td>0.0</td>\n",
              "      <td>0.0</td>\n",
              "      <td>1.0</td>\n",
              "      <td>0.0</td>\n",
              "      <td>...</td>\n",
              "      <td>0.0</td>\n",
              "      <td>1.0</td>\n",
              "      <td>3.0</td>\n",
              "      <td>0.0</td>\n",
              "      <td>0.0</td>\n",
              "      <td>0.0</td>\n",
              "      <td>0.0</td>\n",
              "      <td>7.0</td>\n",
              "      <td>6.0</td>\n",
              "      <td>1.0</td>\n",
              "    </tr>\n",
              "    <tr>\n",
              "      <th>2</th>\n",
              "      <td>0.0</td>\n",
              "      <td>1.0</td>\n",
              "      <td>1.0</td>\n",
              "      <td>1.0</td>\n",
              "      <td>28.0</td>\n",
              "      <td>0.0</td>\n",
              "      <td>0.0</td>\n",
              "      <td>0.0</td>\n",
              "      <td>0.0</td>\n",
              "      <td>1.0</td>\n",
              "      <td>...</td>\n",
              "      <td>1.0</td>\n",
              "      <td>1.0</td>\n",
              "      <td>5.0</td>\n",
              "      <td>30.0</td>\n",
              "      <td>30.0</td>\n",
              "      <td>1.0</td>\n",
              "      <td>0.0</td>\n",
              "      <td>9.0</td>\n",
              "      <td>4.0</td>\n",
              "      <td>8.0</td>\n",
              "    </tr>\n",
              "    <tr>\n",
              "      <th>3</th>\n",
              "      <td>0.0</td>\n",
              "      <td>1.0</td>\n",
              "      <td>0.0</td>\n",
              "      <td>1.0</td>\n",
              "      <td>27.0</td>\n",
              "      <td>0.0</td>\n",
              "      <td>0.0</td>\n",
              "      <td>0.0</td>\n",
              "      <td>1.0</td>\n",
              "      <td>1.0</td>\n",
              "      <td>...</td>\n",
              "      <td>1.0</td>\n",
              "      <td>0.0</td>\n",
              "      <td>2.0</td>\n",
              "      <td>0.0</td>\n",
              "      <td>0.0</td>\n",
              "      <td>0.0</td>\n",
              "      <td>0.0</td>\n",
              "      <td>11.0</td>\n",
              "      <td>3.0</td>\n",
              "      <td>6.0</td>\n",
              "    </tr>\n",
              "    <tr>\n",
              "      <th>4</th>\n",
              "      <td>0.0</td>\n",
              "      <td>1.0</td>\n",
              "      <td>1.0</td>\n",
              "      <td>1.0</td>\n",
              "      <td>24.0</td>\n",
              "      <td>0.0</td>\n",
              "      <td>0.0</td>\n",
              "      <td>0.0</td>\n",
              "      <td>1.0</td>\n",
              "      <td>1.0</td>\n",
              "      <td>...</td>\n",
              "      <td>1.0</td>\n",
              "      <td>0.0</td>\n",
              "      <td>2.0</td>\n",
              "      <td>3.0</td>\n",
              "      <td>0.0</td>\n",
              "      <td>0.0</td>\n",
              "      <td>0.0</td>\n",
              "      <td>11.0</td>\n",
              "      <td>5.0</td>\n",
              "      <td>4.0</td>\n",
              "    </tr>\n",
              "    <tr>\n",
              "      <th>...</th>\n",
              "      <td>...</td>\n",
              "      <td>...</td>\n",
              "      <td>...</td>\n",
              "      <td>...</td>\n",
              "      <td>...</td>\n",
              "      <td>...</td>\n",
              "      <td>...</td>\n",
              "      <td>...</td>\n",
              "      <td>...</td>\n",
              "      <td>...</td>\n",
              "      <td>...</td>\n",
              "      <td>...</td>\n",
              "      <td>...</td>\n",
              "      <td>...</td>\n",
              "      <td>...</td>\n",
              "      <td>...</td>\n",
              "      <td>...</td>\n",
              "      <td>...</td>\n",
              "      <td>...</td>\n",
              "      <td>...</td>\n",
              "      <td>...</td>\n",
              "    </tr>\n",
              "    <tr>\n",
              "      <th>253675</th>\n",
              "      <td>0.0</td>\n",
              "      <td>1.0</td>\n",
              "      <td>1.0</td>\n",
              "      <td>1.0</td>\n",
              "      <td>45.0</td>\n",
              "      <td>0.0</td>\n",
              "      <td>0.0</td>\n",
              "      <td>0.0</td>\n",
              "      <td>0.0</td>\n",
              "      <td>1.0</td>\n",
              "      <td>...</td>\n",
              "      <td>1.0</td>\n",
              "      <td>0.0</td>\n",
              "      <td>3.0</td>\n",
              "      <td>0.0</td>\n",
              "      <td>5.0</td>\n",
              "      <td>0.0</td>\n",
              "      <td>1.0</td>\n",
              "      <td>5.0</td>\n",
              "      <td>6.0</td>\n",
              "      <td>7.0</td>\n",
              "    </tr>\n",
              "    <tr>\n",
              "      <th>253676</th>\n",
              "      <td>0.0</td>\n",
              "      <td>1.0</td>\n",
              "      <td>1.0</td>\n",
              "      <td>1.0</td>\n",
              "      <td>18.0</td>\n",
              "      <td>0.0</td>\n",
              "      <td>0.0</td>\n",
              "      <td>2.0</td>\n",
              "      <td>0.0</td>\n",
              "      <td>0.0</td>\n",
              "      <td>...</td>\n",
              "      <td>1.0</td>\n",
              "      <td>0.0</td>\n",
              "      <td>4.0</td>\n",
              "      <td>0.0</td>\n",
              "      <td>0.0</td>\n",
              "      <td>1.0</td>\n",
              "      <td>0.0</td>\n",
              "      <td>11.0</td>\n",
              "      <td>2.0</td>\n",
              "      <td>4.0</td>\n",
              "    </tr>\n",
              "    <tr>\n",
              "      <th>253677</th>\n",
              "      <td>0.0</td>\n",
              "      <td>0.0</td>\n",
              "      <td>0.0</td>\n",
              "      <td>1.0</td>\n",
              "      <td>28.0</td>\n",
              "      <td>0.0</td>\n",
              "      <td>0.0</td>\n",
              "      <td>0.0</td>\n",
              "      <td>1.0</td>\n",
              "      <td>1.0</td>\n",
              "      <td>...</td>\n",
              "      <td>1.0</td>\n",
              "      <td>0.0</td>\n",
              "      <td>1.0</td>\n",
              "      <td>0.0</td>\n",
              "      <td>0.0</td>\n",
              "      <td>0.0</td>\n",
              "      <td>0.0</td>\n",
              "      <td>2.0</td>\n",
              "      <td>5.0</td>\n",
              "      <td>2.0</td>\n",
              "    </tr>\n",
              "    <tr>\n",
              "      <th>253678</th>\n",
              "      <td>0.0</td>\n",
              "      <td>1.0</td>\n",
              "      <td>0.0</td>\n",
              "      <td>1.0</td>\n",
              "      <td>23.0</td>\n",
              "      <td>0.0</td>\n",
              "      <td>0.0</td>\n",
              "      <td>0.0</td>\n",
              "      <td>0.0</td>\n",
              "      <td>1.0</td>\n",
              "      <td>...</td>\n",
              "      <td>1.0</td>\n",
              "      <td>0.0</td>\n",
              "      <td>3.0</td>\n",
              "      <td>0.0</td>\n",
              "      <td>0.0</td>\n",
              "      <td>0.0</td>\n",
              "      <td>1.0</td>\n",
              "      <td>7.0</td>\n",
              "      <td>5.0</td>\n",
              "      <td>1.0</td>\n",
              "    </tr>\n",
              "    <tr>\n",
              "      <th>253679</th>\n",
              "      <td>1.0</td>\n",
              "      <td>1.0</td>\n",
              "      <td>1.0</td>\n",
              "      <td>1.0</td>\n",
              "      <td>25.0</td>\n",
              "      <td>0.0</td>\n",
              "      <td>0.0</td>\n",
              "      <td>2.0</td>\n",
              "      <td>1.0</td>\n",
              "      <td>1.0</td>\n",
              "      <td>...</td>\n",
              "      <td>1.0</td>\n",
              "      <td>0.0</td>\n",
              "      <td>2.0</td>\n",
              "      <td>0.0</td>\n",
              "      <td>0.0</td>\n",
              "      <td>0.0</td>\n",
              "      <td>0.0</td>\n",
              "      <td>9.0</td>\n",
              "      <td>6.0</td>\n",
              "      <td>2.0</td>\n",
              "    </tr>\n",
              "  </tbody>\n",
              "</table>\n",
              "<p>253680 rows × 22 columns</p>\n",
              "</div>\n",
              "    <div class=\"colab-df-buttons\">\n",
              "\n",
              "  <div class=\"colab-df-container\">\n",
              "    <button class=\"colab-df-convert\" onclick=\"convertToInteractive('df-5ab8f3a4-30ef-4d18-819c-e215397cc3f2')\"\n",
              "            title=\"Convert this dataframe to an interactive table.\"\n",
              "            style=\"display:none;\">\n",
              "\n",
              "  <svg xmlns=\"http://www.w3.org/2000/svg\" height=\"24px\" viewBox=\"0 -960 960 960\">\n",
              "    <path d=\"M120-120v-720h720v720H120Zm60-500h600v-160H180v160Zm220 220h160v-160H400v160Zm0 220h160v-160H400v160ZM180-400h160v-160H180v160Zm440 0h160v-160H620v160ZM180-180h160v-160H180v160Zm440 0h160v-160H620v160Z\"/>\n",
              "  </svg>\n",
              "    </button>\n",
              "\n",
              "  <style>\n",
              "    .colab-df-container {\n",
              "      display:flex;\n",
              "      gap: 12px;\n",
              "    }\n",
              "\n",
              "    .colab-df-convert {\n",
              "      background-color: #E8F0FE;\n",
              "      border: none;\n",
              "      border-radius: 50%;\n",
              "      cursor: pointer;\n",
              "      display: none;\n",
              "      fill: #1967D2;\n",
              "      height: 32px;\n",
              "      padding: 0 0 0 0;\n",
              "      width: 32px;\n",
              "    }\n",
              "\n",
              "    .colab-df-convert:hover {\n",
              "      background-color: #E2EBFA;\n",
              "      box-shadow: 0px 1px 2px rgba(60, 64, 67, 0.3), 0px 1px 3px 1px rgba(60, 64, 67, 0.15);\n",
              "      fill: #174EA6;\n",
              "    }\n",
              "\n",
              "    .colab-df-buttons div {\n",
              "      margin-bottom: 4px;\n",
              "    }\n",
              "\n",
              "    [theme=dark] .colab-df-convert {\n",
              "      background-color: #3B4455;\n",
              "      fill: #D2E3FC;\n",
              "    }\n",
              "\n",
              "    [theme=dark] .colab-df-convert:hover {\n",
              "      background-color: #434B5C;\n",
              "      box-shadow: 0px 1px 3px 1px rgba(0, 0, 0, 0.15);\n",
              "      filter: drop-shadow(0px 1px 2px rgba(0, 0, 0, 0.3));\n",
              "      fill: #FFFFFF;\n",
              "    }\n",
              "  </style>\n",
              "\n",
              "    <script>\n",
              "      const buttonEl =\n",
              "        document.querySelector('#df-5ab8f3a4-30ef-4d18-819c-e215397cc3f2 button.colab-df-convert');\n",
              "      buttonEl.style.display =\n",
              "        google.colab.kernel.accessAllowed ? 'block' : 'none';\n",
              "\n",
              "      async function convertToInteractive(key) {\n",
              "        const element = document.querySelector('#df-5ab8f3a4-30ef-4d18-819c-e215397cc3f2');\n",
              "        const dataTable =\n",
              "          await google.colab.kernel.invokeFunction('convertToInteractive',\n",
              "                                                    [key], {});\n",
              "        if (!dataTable) return;\n",
              "\n",
              "        const docLinkHtml = 'Like what you see? Visit the ' +\n",
              "          '<a target=\"_blank\" href=https://colab.research.google.com/notebooks/data_table.ipynb>data table notebook</a>'\n",
              "          + ' to learn more about interactive tables.';\n",
              "        element.innerHTML = '';\n",
              "        dataTable['output_type'] = 'display_data';\n",
              "        await google.colab.output.renderOutput(dataTable, element);\n",
              "        const docLink = document.createElement('div');\n",
              "        docLink.innerHTML = docLinkHtml;\n",
              "        element.appendChild(docLink);\n",
              "      }\n",
              "    </script>\n",
              "  </div>\n",
              "\n",
              "\n",
              "<div id=\"df-788750fd-90e3-4431-b514-63251dfea083\">\n",
              "  <button class=\"colab-df-quickchart\" onclick=\"quickchart('df-788750fd-90e3-4431-b514-63251dfea083')\"\n",
              "            title=\"Suggest charts\"\n",
              "            style=\"display:none;\">\n",
              "\n",
              "<svg xmlns=\"http://www.w3.org/2000/svg\" height=\"24px\"viewBox=\"0 0 24 24\"\n",
              "     width=\"24px\">\n",
              "    <g>\n",
              "        <path d=\"M19 3H5c-1.1 0-2 .9-2 2v14c0 1.1.9 2 2 2h14c1.1 0 2-.9 2-2V5c0-1.1-.9-2-2-2zM9 17H7v-7h2v7zm4 0h-2V7h2v10zm4 0h-2v-4h2v4z\"/>\n",
              "    </g>\n",
              "</svg>\n",
              "  </button>\n",
              "\n",
              "<style>\n",
              "  .colab-df-quickchart {\n",
              "      --bg-color: #E8F0FE;\n",
              "      --fill-color: #1967D2;\n",
              "      --hover-bg-color: #E2EBFA;\n",
              "      --hover-fill-color: #174EA6;\n",
              "      --disabled-fill-color: #AAA;\n",
              "      --disabled-bg-color: #DDD;\n",
              "  }\n",
              "\n",
              "  [theme=dark] .colab-df-quickchart {\n",
              "      --bg-color: #3B4455;\n",
              "      --fill-color: #D2E3FC;\n",
              "      --hover-bg-color: #434B5C;\n",
              "      --hover-fill-color: #FFFFFF;\n",
              "      --disabled-bg-color: #3B4455;\n",
              "      --disabled-fill-color: #666;\n",
              "  }\n",
              "\n",
              "  .colab-df-quickchart {\n",
              "    background-color: var(--bg-color);\n",
              "    border: none;\n",
              "    border-radius: 50%;\n",
              "    cursor: pointer;\n",
              "    display: none;\n",
              "    fill: var(--fill-color);\n",
              "    height: 32px;\n",
              "    padding: 0;\n",
              "    width: 32px;\n",
              "  }\n",
              "\n",
              "  .colab-df-quickchart:hover {\n",
              "    background-color: var(--hover-bg-color);\n",
              "    box-shadow: 0 1px 2px rgba(60, 64, 67, 0.3), 0 1px 3px 1px rgba(60, 64, 67, 0.15);\n",
              "    fill: var(--button-hover-fill-color);\n",
              "  }\n",
              "\n",
              "  .colab-df-quickchart-complete:disabled,\n",
              "  .colab-df-quickchart-complete:disabled:hover {\n",
              "    background-color: var(--disabled-bg-color);\n",
              "    fill: var(--disabled-fill-color);\n",
              "    box-shadow: none;\n",
              "  }\n",
              "\n",
              "  .colab-df-spinner {\n",
              "    border: 2px solid var(--fill-color);\n",
              "    border-color: transparent;\n",
              "    border-bottom-color: var(--fill-color);\n",
              "    animation:\n",
              "      spin 1s steps(1) infinite;\n",
              "  }\n",
              "\n",
              "  @keyframes spin {\n",
              "    0% {\n",
              "      border-color: transparent;\n",
              "      border-bottom-color: var(--fill-color);\n",
              "      border-left-color: var(--fill-color);\n",
              "    }\n",
              "    20% {\n",
              "      border-color: transparent;\n",
              "      border-left-color: var(--fill-color);\n",
              "      border-top-color: var(--fill-color);\n",
              "    }\n",
              "    30% {\n",
              "      border-color: transparent;\n",
              "      border-left-color: var(--fill-color);\n",
              "      border-top-color: var(--fill-color);\n",
              "      border-right-color: var(--fill-color);\n",
              "    }\n",
              "    40% {\n",
              "      border-color: transparent;\n",
              "      border-right-color: var(--fill-color);\n",
              "      border-top-color: var(--fill-color);\n",
              "    }\n",
              "    60% {\n",
              "      border-color: transparent;\n",
              "      border-right-color: var(--fill-color);\n",
              "    }\n",
              "    80% {\n",
              "      border-color: transparent;\n",
              "      border-right-color: var(--fill-color);\n",
              "      border-bottom-color: var(--fill-color);\n",
              "    }\n",
              "    90% {\n",
              "      border-color: transparent;\n",
              "      border-bottom-color: var(--fill-color);\n",
              "    }\n",
              "  }\n",
              "</style>\n",
              "\n",
              "  <script>\n",
              "    async function quickchart(key) {\n",
              "      const quickchartButtonEl =\n",
              "        document.querySelector('#' + key + ' button');\n",
              "      quickchartButtonEl.disabled = true;  // To prevent multiple clicks.\n",
              "      quickchartButtonEl.classList.add('colab-df-spinner');\n",
              "      try {\n",
              "        const charts = await google.colab.kernel.invokeFunction(\n",
              "            'suggestCharts', [key], {});\n",
              "      } catch (error) {\n",
              "        console.error('Error during call to suggestCharts:', error);\n",
              "      }\n",
              "      quickchartButtonEl.classList.remove('colab-df-spinner');\n",
              "      quickchartButtonEl.classList.add('colab-df-quickchart-complete');\n",
              "    }\n",
              "    (() => {\n",
              "      let quickchartButtonEl =\n",
              "        document.querySelector('#df-788750fd-90e3-4431-b514-63251dfea083 button');\n",
              "      quickchartButtonEl.style.display =\n",
              "        google.colab.kernel.accessAllowed ? 'block' : 'none';\n",
              "    })();\n",
              "  </script>\n",
              "</div>\n",
              "    </div>\n",
              "  </div>\n"
            ],
            "application/vnd.google.colaboratory.intrinsic+json": {
              "type": "dataframe",
              "variable_name": "cardio"
            }
          },
          "metadata": {},
          "execution_count": 26
        }
      ],
      "source": [
        "# data = pd.read_csv(r\"C:\\Users\\antol\\Downloads\\Cardio_Train.csv\")\n",
        "\n",
        "cardio = pd.read_csv(\"Cardio_Train-2.csv\")\n",
        "cardio"
      ]
    },
    {
      "cell_type": "markdown",
      "id": "a22af845",
      "metadata": {
        "papermill": {
          "duration": 0.015001,
          "end_time": "2024-03-28T17:20:35.238888",
          "exception": false,
          "start_time": "2024-03-28T17:20:35.223887",
          "status": "completed"
        },
        "tags": [],
        "id": "a22af845"
      },
      "source": [
        "* ### Dataset information"
      ]
    },
    {
      "cell_type": "code",
      "execution_count": 27,
      "id": "3dfe6a2b",
      "metadata": {
        "execution": {
          "iopub.execute_input": "2024-03-28T17:20:35.270939Z",
          "iopub.status.busy": "2024-03-28T17:20:35.270453Z",
          "iopub.status.idle": "2024-03-28T17:20:35.312909Z",
          "shell.execute_reply": "2024-03-28T17:20:35.311071Z"
        },
        "papermill": {
          "duration": 0.061805,
          "end_time": "2024-03-28T17:20:35.315713",
          "exception": false,
          "start_time": "2024-03-28T17:20:35.253908",
          "status": "completed"
        },
        "tags": [],
        "id": "3dfe6a2b",
        "outputId": "6022a60a-baf5-4fe7-e220-f6e9eb0650a4",
        "colab": {
          "base_uri": "https://localhost:8080/"
        }
      },
      "outputs": [
        {
          "output_type": "stream",
          "name": "stdout",
          "text": [
            "<class 'pandas.core.frame.DataFrame'>\n",
            "RangeIndex: 253680 entries, 0 to 253679\n",
            "Data columns (total 22 columns):\n",
            " #   Column                Non-Null Count   Dtype  \n",
            "---  ------                --------------   -----  \n",
            " 0   HeartDiseaseorAttack  253680 non-null  float64\n",
            " 1   HighBP                253680 non-null  float64\n",
            " 2   HighChol              253680 non-null  float64\n",
            " 3   CholCheck             253680 non-null  float64\n",
            " 4   BMI                   253680 non-null  float64\n",
            " 5   Smoker                253680 non-null  float64\n",
            " 6   Stroke                253680 non-null  float64\n",
            " 7   Diabetes              253680 non-null  float64\n",
            " 8   PhysActivity          253680 non-null  float64\n",
            " 9   Fruits                253680 non-null  float64\n",
            " 10  Veggies               253680 non-null  float64\n",
            " 11  HvyAlcoholConsump     253680 non-null  float64\n",
            " 12  AnyHealthcare         253680 non-null  float64\n",
            " 13  NoDocbcCost           253680 non-null  float64\n",
            " 14  GenHlth               253680 non-null  float64\n",
            " 15  MentHlth              253680 non-null  float64\n",
            " 16  PhysHlth              253680 non-null  float64\n",
            " 17  DiffWalk              253680 non-null  float64\n",
            " 18  Sex                   253680 non-null  float64\n",
            " 19  Age                   253680 non-null  float64\n",
            " 20  Education             253680 non-null  float64\n",
            " 21  Income                253680 non-null  float64\n",
            "dtypes: float64(22)\n",
            "memory usage: 42.6 MB\n"
          ]
        }
      ],
      "source": [
        "cardio.info()"
      ]
    },
    {
      "cell_type": "code",
      "execution_count": 28,
      "id": "9b8afc16",
      "metadata": {
        "execution": {
          "iopub.execute_input": "2024-03-28T17:20:35.349990Z",
          "iopub.status.busy": "2024-03-28T17:20:35.349402Z",
          "iopub.status.idle": "2024-03-28T17:20:35.381629Z",
          "shell.execute_reply": "2024-03-28T17:20:35.380652Z"
        },
        "papermill": {
          "duration": 0.052393,
          "end_time": "2024-03-28T17:20:35.383856",
          "exception": false,
          "start_time": "2024-03-28T17:20:35.331463",
          "status": "completed"
        },
        "tags": [],
        "id": "9b8afc16",
        "outputId": "72d2f8b0-00ab-454b-f7e4-89219b9116a6",
        "colab": {
          "base_uri": "https://localhost:8080/",
          "height": 256
        }
      },
      "outputs": [
        {
          "output_type": "execute_result",
          "data": {
            "text/plain": [
              "   HeartDiseaseorAttack  HighBP  HighChol  CholCheck   BMI  Smoker  Stroke  \\\n",
              "0                   0.0     1.0       1.0        1.0  40.0     1.0     0.0   \n",
              "1                   0.0     0.0       0.0        0.0  25.0     1.0     0.0   \n",
              "2                   0.0     1.0       1.0        1.0  28.0     0.0     0.0   \n",
              "3                   0.0     1.0       0.0        1.0  27.0     0.0     0.0   \n",
              "4                   0.0     1.0       1.0        1.0  24.0     0.0     0.0   \n",
              "\n",
              "   Diabetes  PhysActivity  Fruits  ...  AnyHealthcare  NoDocbcCost  GenHlth  \\\n",
              "0       0.0           0.0     0.0  ...            1.0          0.0      5.0   \n",
              "1       0.0           1.0     0.0  ...            0.0          1.0      3.0   \n",
              "2       0.0           0.0     1.0  ...            1.0          1.0      5.0   \n",
              "3       0.0           1.0     1.0  ...            1.0          0.0      2.0   \n",
              "4       0.0           1.0     1.0  ...            1.0          0.0      2.0   \n",
              "\n",
              "   MentHlth  PhysHlth  DiffWalk  Sex   Age  Education  Income  \n",
              "0      18.0      15.0       1.0  0.0   9.0        4.0     3.0  \n",
              "1       0.0       0.0       0.0  0.0   7.0        6.0     1.0  \n",
              "2      30.0      30.0       1.0  0.0   9.0        4.0     8.0  \n",
              "3       0.0       0.0       0.0  0.0  11.0        3.0     6.0  \n",
              "4       3.0       0.0       0.0  0.0  11.0        5.0     4.0  \n",
              "\n",
              "[5 rows x 22 columns]"
            ],
            "text/html": [
              "\n",
              "  <div id=\"df-e5a7e133-00ba-44f8-9d7f-9b207d946e1c\" class=\"colab-df-container\">\n",
              "    <div>\n",
              "<style scoped>\n",
              "    .dataframe tbody tr th:only-of-type {\n",
              "        vertical-align: middle;\n",
              "    }\n",
              "\n",
              "    .dataframe tbody tr th {\n",
              "        vertical-align: top;\n",
              "    }\n",
              "\n",
              "    .dataframe thead th {\n",
              "        text-align: right;\n",
              "    }\n",
              "</style>\n",
              "<table border=\"1\" class=\"dataframe\">\n",
              "  <thead>\n",
              "    <tr style=\"text-align: right;\">\n",
              "      <th></th>\n",
              "      <th>HeartDiseaseorAttack</th>\n",
              "      <th>HighBP</th>\n",
              "      <th>HighChol</th>\n",
              "      <th>CholCheck</th>\n",
              "      <th>BMI</th>\n",
              "      <th>Smoker</th>\n",
              "      <th>Stroke</th>\n",
              "      <th>Diabetes</th>\n",
              "      <th>PhysActivity</th>\n",
              "      <th>Fruits</th>\n",
              "      <th>...</th>\n",
              "      <th>AnyHealthcare</th>\n",
              "      <th>NoDocbcCost</th>\n",
              "      <th>GenHlth</th>\n",
              "      <th>MentHlth</th>\n",
              "      <th>PhysHlth</th>\n",
              "      <th>DiffWalk</th>\n",
              "      <th>Sex</th>\n",
              "      <th>Age</th>\n",
              "      <th>Education</th>\n",
              "      <th>Income</th>\n",
              "    </tr>\n",
              "  </thead>\n",
              "  <tbody>\n",
              "    <tr>\n",
              "      <th>0</th>\n",
              "      <td>0.0</td>\n",
              "      <td>1.0</td>\n",
              "      <td>1.0</td>\n",
              "      <td>1.0</td>\n",
              "      <td>40.0</td>\n",
              "      <td>1.0</td>\n",
              "      <td>0.0</td>\n",
              "      <td>0.0</td>\n",
              "      <td>0.0</td>\n",
              "      <td>0.0</td>\n",
              "      <td>...</td>\n",
              "      <td>1.0</td>\n",
              "      <td>0.0</td>\n",
              "      <td>5.0</td>\n",
              "      <td>18.0</td>\n",
              "      <td>15.0</td>\n",
              "      <td>1.0</td>\n",
              "      <td>0.0</td>\n",
              "      <td>9.0</td>\n",
              "      <td>4.0</td>\n",
              "      <td>3.0</td>\n",
              "    </tr>\n",
              "    <tr>\n",
              "      <th>1</th>\n",
              "      <td>0.0</td>\n",
              "      <td>0.0</td>\n",
              "      <td>0.0</td>\n",
              "      <td>0.0</td>\n",
              "      <td>25.0</td>\n",
              "      <td>1.0</td>\n",
              "      <td>0.0</td>\n",
              "      <td>0.0</td>\n",
              "      <td>1.0</td>\n",
              "      <td>0.0</td>\n",
              "      <td>...</td>\n",
              "      <td>0.0</td>\n",
              "      <td>1.0</td>\n",
              "      <td>3.0</td>\n",
              "      <td>0.0</td>\n",
              "      <td>0.0</td>\n",
              "      <td>0.0</td>\n",
              "      <td>0.0</td>\n",
              "      <td>7.0</td>\n",
              "      <td>6.0</td>\n",
              "      <td>1.0</td>\n",
              "    </tr>\n",
              "    <tr>\n",
              "      <th>2</th>\n",
              "      <td>0.0</td>\n",
              "      <td>1.0</td>\n",
              "      <td>1.0</td>\n",
              "      <td>1.0</td>\n",
              "      <td>28.0</td>\n",
              "      <td>0.0</td>\n",
              "      <td>0.0</td>\n",
              "      <td>0.0</td>\n",
              "      <td>0.0</td>\n",
              "      <td>1.0</td>\n",
              "      <td>...</td>\n",
              "      <td>1.0</td>\n",
              "      <td>1.0</td>\n",
              "      <td>5.0</td>\n",
              "      <td>30.0</td>\n",
              "      <td>30.0</td>\n",
              "      <td>1.0</td>\n",
              "      <td>0.0</td>\n",
              "      <td>9.0</td>\n",
              "      <td>4.0</td>\n",
              "      <td>8.0</td>\n",
              "    </tr>\n",
              "    <tr>\n",
              "      <th>3</th>\n",
              "      <td>0.0</td>\n",
              "      <td>1.0</td>\n",
              "      <td>0.0</td>\n",
              "      <td>1.0</td>\n",
              "      <td>27.0</td>\n",
              "      <td>0.0</td>\n",
              "      <td>0.0</td>\n",
              "      <td>0.0</td>\n",
              "      <td>1.0</td>\n",
              "      <td>1.0</td>\n",
              "      <td>...</td>\n",
              "      <td>1.0</td>\n",
              "      <td>0.0</td>\n",
              "      <td>2.0</td>\n",
              "      <td>0.0</td>\n",
              "      <td>0.0</td>\n",
              "      <td>0.0</td>\n",
              "      <td>0.0</td>\n",
              "      <td>11.0</td>\n",
              "      <td>3.0</td>\n",
              "      <td>6.0</td>\n",
              "    </tr>\n",
              "    <tr>\n",
              "      <th>4</th>\n",
              "      <td>0.0</td>\n",
              "      <td>1.0</td>\n",
              "      <td>1.0</td>\n",
              "      <td>1.0</td>\n",
              "      <td>24.0</td>\n",
              "      <td>0.0</td>\n",
              "      <td>0.0</td>\n",
              "      <td>0.0</td>\n",
              "      <td>1.0</td>\n",
              "      <td>1.0</td>\n",
              "      <td>...</td>\n",
              "      <td>1.0</td>\n",
              "      <td>0.0</td>\n",
              "      <td>2.0</td>\n",
              "      <td>3.0</td>\n",
              "      <td>0.0</td>\n",
              "      <td>0.0</td>\n",
              "      <td>0.0</td>\n",
              "      <td>11.0</td>\n",
              "      <td>5.0</td>\n",
              "      <td>4.0</td>\n",
              "    </tr>\n",
              "  </tbody>\n",
              "</table>\n",
              "<p>5 rows × 22 columns</p>\n",
              "</div>\n",
              "    <div class=\"colab-df-buttons\">\n",
              "\n",
              "  <div class=\"colab-df-container\">\n",
              "    <button class=\"colab-df-convert\" onclick=\"convertToInteractive('df-e5a7e133-00ba-44f8-9d7f-9b207d946e1c')\"\n",
              "            title=\"Convert this dataframe to an interactive table.\"\n",
              "            style=\"display:none;\">\n",
              "\n",
              "  <svg xmlns=\"http://www.w3.org/2000/svg\" height=\"24px\" viewBox=\"0 -960 960 960\">\n",
              "    <path d=\"M120-120v-720h720v720H120Zm60-500h600v-160H180v160Zm220 220h160v-160H400v160Zm0 220h160v-160H400v160ZM180-400h160v-160H180v160Zm440 0h160v-160H620v160ZM180-180h160v-160H180v160Zm440 0h160v-160H620v160Z\"/>\n",
              "  </svg>\n",
              "    </button>\n",
              "\n",
              "  <style>\n",
              "    .colab-df-container {\n",
              "      display:flex;\n",
              "      gap: 12px;\n",
              "    }\n",
              "\n",
              "    .colab-df-convert {\n",
              "      background-color: #E8F0FE;\n",
              "      border: none;\n",
              "      border-radius: 50%;\n",
              "      cursor: pointer;\n",
              "      display: none;\n",
              "      fill: #1967D2;\n",
              "      height: 32px;\n",
              "      padding: 0 0 0 0;\n",
              "      width: 32px;\n",
              "    }\n",
              "\n",
              "    .colab-df-convert:hover {\n",
              "      background-color: #E2EBFA;\n",
              "      box-shadow: 0px 1px 2px rgba(60, 64, 67, 0.3), 0px 1px 3px 1px rgba(60, 64, 67, 0.15);\n",
              "      fill: #174EA6;\n",
              "    }\n",
              "\n",
              "    .colab-df-buttons div {\n",
              "      margin-bottom: 4px;\n",
              "    }\n",
              "\n",
              "    [theme=dark] .colab-df-convert {\n",
              "      background-color: #3B4455;\n",
              "      fill: #D2E3FC;\n",
              "    }\n",
              "\n",
              "    [theme=dark] .colab-df-convert:hover {\n",
              "      background-color: #434B5C;\n",
              "      box-shadow: 0px 1px 3px 1px rgba(0, 0, 0, 0.15);\n",
              "      filter: drop-shadow(0px 1px 2px rgba(0, 0, 0, 0.3));\n",
              "      fill: #FFFFFF;\n",
              "    }\n",
              "  </style>\n",
              "\n",
              "    <script>\n",
              "      const buttonEl =\n",
              "        document.querySelector('#df-e5a7e133-00ba-44f8-9d7f-9b207d946e1c button.colab-df-convert');\n",
              "      buttonEl.style.display =\n",
              "        google.colab.kernel.accessAllowed ? 'block' : 'none';\n",
              "\n",
              "      async function convertToInteractive(key) {\n",
              "        const element = document.querySelector('#df-e5a7e133-00ba-44f8-9d7f-9b207d946e1c');\n",
              "        const dataTable =\n",
              "          await google.colab.kernel.invokeFunction('convertToInteractive',\n",
              "                                                    [key], {});\n",
              "        if (!dataTable) return;\n",
              "\n",
              "        const docLinkHtml = 'Like what you see? Visit the ' +\n",
              "          '<a target=\"_blank\" href=https://colab.research.google.com/notebooks/data_table.ipynb>data table notebook</a>'\n",
              "          + ' to learn more about interactive tables.';\n",
              "        element.innerHTML = '';\n",
              "        dataTable['output_type'] = 'display_data';\n",
              "        await google.colab.output.renderOutput(dataTable, element);\n",
              "        const docLink = document.createElement('div');\n",
              "        docLink.innerHTML = docLinkHtml;\n",
              "        element.appendChild(docLink);\n",
              "      }\n",
              "    </script>\n",
              "  </div>\n",
              "\n",
              "\n",
              "<div id=\"df-974d138c-25f7-407b-9ae7-c95dfa5d8776\">\n",
              "  <button class=\"colab-df-quickchart\" onclick=\"quickchart('df-974d138c-25f7-407b-9ae7-c95dfa5d8776')\"\n",
              "            title=\"Suggest charts\"\n",
              "            style=\"display:none;\">\n",
              "\n",
              "<svg xmlns=\"http://www.w3.org/2000/svg\" height=\"24px\"viewBox=\"0 0 24 24\"\n",
              "     width=\"24px\">\n",
              "    <g>\n",
              "        <path d=\"M19 3H5c-1.1 0-2 .9-2 2v14c0 1.1.9 2 2 2h14c1.1 0 2-.9 2-2V5c0-1.1-.9-2-2-2zM9 17H7v-7h2v7zm4 0h-2V7h2v10zm4 0h-2v-4h2v4z\"/>\n",
              "    </g>\n",
              "</svg>\n",
              "  </button>\n",
              "\n",
              "<style>\n",
              "  .colab-df-quickchart {\n",
              "      --bg-color: #E8F0FE;\n",
              "      --fill-color: #1967D2;\n",
              "      --hover-bg-color: #E2EBFA;\n",
              "      --hover-fill-color: #174EA6;\n",
              "      --disabled-fill-color: #AAA;\n",
              "      --disabled-bg-color: #DDD;\n",
              "  }\n",
              "\n",
              "  [theme=dark] .colab-df-quickchart {\n",
              "      --bg-color: #3B4455;\n",
              "      --fill-color: #D2E3FC;\n",
              "      --hover-bg-color: #434B5C;\n",
              "      --hover-fill-color: #FFFFFF;\n",
              "      --disabled-bg-color: #3B4455;\n",
              "      --disabled-fill-color: #666;\n",
              "  }\n",
              "\n",
              "  .colab-df-quickchart {\n",
              "    background-color: var(--bg-color);\n",
              "    border: none;\n",
              "    border-radius: 50%;\n",
              "    cursor: pointer;\n",
              "    display: none;\n",
              "    fill: var(--fill-color);\n",
              "    height: 32px;\n",
              "    padding: 0;\n",
              "    width: 32px;\n",
              "  }\n",
              "\n",
              "  .colab-df-quickchart:hover {\n",
              "    background-color: var(--hover-bg-color);\n",
              "    box-shadow: 0 1px 2px rgba(60, 64, 67, 0.3), 0 1px 3px 1px rgba(60, 64, 67, 0.15);\n",
              "    fill: var(--button-hover-fill-color);\n",
              "  }\n",
              "\n",
              "  .colab-df-quickchart-complete:disabled,\n",
              "  .colab-df-quickchart-complete:disabled:hover {\n",
              "    background-color: var(--disabled-bg-color);\n",
              "    fill: var(--disabled-fill-color);\n",
              "    box-shadow: none;\n",
              "  }\n",
              "\n",
              "  .colab-df-spinner {\n",
              "    border: 2px solid var(--fill-color);\n",
              "    border-color: transparent;\n",
              "    border-bottom-color: var(--fill-color);\n",
              "    animation:\n",
              "      spin 1s steps(1) infinite;\n",
              "  }\n",
              "\n",
              "  @keyframes spin {\n",
              "    0% {\n",
              "      border-color: transparent;\n",
              "      border-bottom-color: var(--fill-color);\n",
              "      border-left-color: var(--fill-color);\n",
              "    }\n",
              "    20% {\n",
              "      border-color: transparent;\n",
              "      border-left-color: var(--fill-color);\n",
              "      border-top-color: var(--fill-color);\n",
              "    }\n",
              "    30% {\n",
              "      border-color: transparent;\n",
              "      border-left-color: var(--fill-color);\n",
              "      border-top-color: var(--fill-color);\n",
              "      border-right-color: var(--fill-color);\n",
              "    }\n",
              "    40% {\n",
              "      border-color: transparent;\n",
              "      border-right-color: var(--fill-color);\n",
              "      border-top-color: var(--fill-color);\n",
              "    }\n",
              "    60% {\n",
              "      border-color: transparent;\n",
              "      border-right-color: var(--fill-color);\n",
              "    }\n",
              "    80% {\n",
              "      border-color: transparent;\n",
              "      border-right-color: var(--fill-color);\n",
              "      border-bottom-color: var(--fill-color);\n",
              "    }\n",
              "    90% {\n",
              "      border-color: transparent;\n",
              "      border-bottom-color: var(--fill-color);\n",
              "    }\n",
              "  }\n",
              "</style>\n",
              "\n",
              "  <script>\n",
              "    async function quickchart(key) {\n",
              "      const quickchartButtonEl =\n",
              "        document.querySelector('#' + key + ' button');\n",
              "      quickchartButtonEl.disabled = true;  // To prevent multiple clicks.\n",
              "      quickchartButtonEl.classList.add('colab-df-spinner');\n",
              "      try {\n",
              "        const charts = await google.colab.kernel.invokeFunction(\n",
              "            'suggestCharts', [key], {});\n",
              "      } catch (error) {\n",
              "        console.error('Error during call to suggestCharts:', error);\n",
              "      }\n",
              "      quickchartButtonEl.classList.remove('colab-df-spinner');\n",
              "      quickchartButtonEl.classList.add('colab-df-quickchart-complete');\n",
              "    }\n",
              "    (() => {\n",
              "      let quickchartButtonEl =\n",
              "        document.querySelector('#df-974d138c-25f7-407b-9ae7-c95dfa5d8776 button');\n",
              "      quickchartButtonEl.style.display =\n",
              "        google.colab.kernel.accessAllowed ? 'block' : 'none';\n",
              "    })();\n",
              "  </script>\n",
              "</div>\n",
              "    </div>\n",
              "  </div>\n"
            ],
            "application/vnd.google.colaboratory.intrinsic+json": {
              "type": "dataframe",
              "variable_name": "cardio"
            }
          },
          "metadata": {},
          "execution_count": 28
        }
      ],
      "source": [
        "cardio.head()"
      ]
    },
    {
      "cell_type": "code",
      "execution_count": 29,
      "id": "60c7159a",
      "metadata": {
        "execution": {
          "iopub.execute_input": "2024-03-28T17:20:35.418550Z",
          "iopub.status.busy": "2024-03-28T17:20:35.417764Z",
          "iopub.status.idle": "2024-03-28T17:20:35.427043Z",
          "shell.execute_reply": "2024-03-28T17:20:35.426156Z"
        },
        "papermill": {
          "duration": 0.029195,
          "end_time": "2024-03-28T17:20:35.429277",
          "exception": false,
          "start_time": "2024-03-28T17:20:35.400082",
          "status": "completed"
        },
        "tags": [],
        "id": "60c7159a",
        "outputId": "331aefbb-629e-4a0a-f0ca-4590b06482d9",
        "colab": {
          "base_uri": "https://localhost:8080/"
        }
      },
      "outputs": [
        {
          "output_type": "execute_result",
          "data": {
            "text/plain": [
              "0          9.0\n",
              "1          7.0\n",
              "2          9.0\n",
              "3         11.0\n",
              "4         11.0\n",
              "          ... \n",
              "253675     5.0\n",
              "253676    11.0\n",
              "253677     2.0\n",
              "253678     7.0\n",
              "253679     9.0\n",
              "Name: Age, Length: 253680, dtype: float64"
            ]
          },
          "metadata": {},
          "execution_count": 29
        }
      ],
      "source": [
        "x = cardio['Age']\n",
        "x"
      ]
    },
    {
      "cell_type": "code",
      "execution_count": 30,
      "id": "db5727b7",
      "metadata": {
        "execution": {
          "iopub.execute_input": "2024-03-28T17:20:35.462908Z",
          "iopub.status.busy": "2024-03-28T17:20:35.461564Z",
          "iopub.status.idle": "2024-03-28T17:20:35.469334Z",
          "shell.execute_reply": "2024-03-28T17:20:35.468318Z"
        },
        "papermill": {
          "duration": 0.02674,
          "end_time": "2024-03-28T17:20:35.471526",
          "exception": false,
          "start_time": "2024-03-28T17:20:35.444786",
          "status": "completed"
        },
        "tags": [],
        "id": "db5727b7",
        "outputId": "e876e576-b25f-4052-c3d4-73dafddac13d",
        "colab": {
          "base_uri": "https://localhost:8080/"
        }
      },
      "outputs": [
        {
          "output_type": "execute_result",
          "data": {
            "text/plain": [
              "(253680, 22)"
            ]
          },
          "metadata": {},
          "execution_count": 30
        }
      ],
      "source": [
        "cardio.shape"
      ]
    },
    {
      "cell_type": "markdown",
      "id": "294b77d1",
      "metadata": {
        "papermill": {
          "duration": 0.015225,
          "end_time": "2024-03-28T17:20:35.502320",
          "exception": false,
          "start_time": "2024-03-28T17:20:35.487095",
          "status": "completed"
        },
        "tags": [],
        "id": "294b77d1"
      },
      "source": [
        "* ### Dataset class statistics"
      ]
    },
    {
      "cell_type": "code",
      "execution_count": 31,
      "id": "5a0ca8b2",
      "metadata": {
        "execution": {
          "iopub.execute_input": "2024-03-28T17:20:35.537711Z",
          "iopub.status.busy": "2024-03-28T17:20:35.536868Z",
          "iopub.status.idle": "2024-03-28T17:20:35.550348Z",
          "shell.execute_reply": "2024-03-28T17:20:35.549380Z"
        },
        "papermill": {
          "duration": 0.033606,
          "end_time": "2024-03-28T17:20:35.552969",
          "exception": false,
          "start_time": "2024-03-28T17:20:35.519363",
          "status": "completed"
        },
        "tags": [],
        "id": "5a0ca8b2",
        "outputId": "14709143-8f16-4c9c-f8f8-4bf1aed80dd5",
        "colab": {
          "base_uri": "https://localhost:8080/"
        }
      },
      "outputs": [
        {
          "output_type": "execute_result",
          "data": {
            "text/plain": [
              "HeartDiseaseorAttack\n",
              "0.0    229787\n",
              "1.0     23893\n",
              "Name: count, dtype: int64"
            ]
          },
          "metadata": {},
          "execution_count": 31
        }
      ],
      "source": [
        "cardio['HeartDiseaseorAttack'].value_counts()"
      ]
    },
    {
      "cell_type": "code",
      "execution_count": 32,
      "id": "d0b7e79b",
      "metadata": {
        "execution": {
          "iopub.execute_input": "2024-03-28T17:20:35.587760Z",
          "iopub.status.busy": "2024-03-28T17:20:35.587255Z",
          "iopub.status.idle": "2024-03-28T17:20:35.603018Z",
          "shell.execute_reply": "2024-03-28T17:20:35.602116Z"
        },
        "papermill": {
          "duration": 0.035867,
          "end_time": "2024-03-28T17:20:35.605312",
          "exception": false,
          "start_time": "2024-03-28T17:20:35.569445",
          "status": "completed"
        },
        "tags": [],
        "id": "d0b7e79b",
        "outputId": "a207261e-d7a5-4b63-d457-a67135c31476",
        "colab": {
          "base_uri": "https://localhost:8080/"
        }
      },
      "outputs": [
        {
          "output_type": "execute_result",
          "data": {
            "text/plain": [
              "HeartDiseaseorAttack\n",
              "0.0    229787\n",
              "1.0     23893\n",
              "dtype: int64"
            ]
          },
          "metadata": {},
          "execution_count": 32
        }
      ],
      "source": [
        "cardio.groupby(['HeartDiseaseorAttack']).size()"
      ]
    },
    {
      "cell_type": "code",
      "execution_count": 33,
      "id": "779ccaf4",
      "metadata": {
        "execution": {
          "iopub.execute_input": "2024-03-28T17:20:35.674174Z",
          "iopub.status.busy": "2024-03-28T17:20:35.673520Z",
          "iopub.status.idle": "2024-03-28T17:20:35.693925Z",
          "shell.execute_reply": "2024-03-28T17:20:35.692519Z"
        },
        "papermill": {
          "duration": 0.042065,
          "end_time": "2024-03-28T17:20:35.697031",
          "exception": false,
          "start_time": "2024-03-28T17:20:35.654966",
          "status": "completed"
        },
        "tags": [],
        "id": "779ccaf4",
        "outputId": "1c076310-421d-4109-c99b-e7340a797b4f",
        "colab": {
          "base_uri": "https://localhost:8080/"
        }
      },
      "outputs": [
        {
          "output_type": "execute_result",
          "data": {
            "text/plain": [
              "HeartDiseaseorAttack    0\n",
              "HighBP                  0\n",
              "HighChol                0\n",
              "CholCheck               0\n",
              "BMI                     0\n",
              "Smoker                  0\n",
              "Stroke                  0\n",
              "Diabetes                0\n",
              "PhysActivity            0\n",
              "Fruits                  0\n",
              "Veggies                 0\n",
              "HvyAlcoholConsump       0\n",
              "AnyHealthcare           0\n",
              "NoDocbcCost             0\n",
              "GenHlth                 0\n",
              "MentHlth                0\n",
              "PhysHlth                0\n",
              "DiffWalk                0\n",
              "Sex                     0\n",
              "Age                     0\n",
              "Education               0\n",
              "Income                  0\n",
              "dtype: int64"
            ]
          },
          "metadata": {},
          "execution_count": 33
        }
      ],
      "source": [
        "cardio.isna().sum()"
      ]
    },
    {
      "cell_type": "code",
      "execution_count": 34,
      "id": "d9996b7c",
      "metadata": {
        "execution": {
          "iopub.execute_input": "2024-03-28T17:20:35.734399Z",
          "iopub.status.busy": "2024-03-28T17:20:35.732825Z",
          "iopub.status.idle": "2024-03-28T17:20:35.740537Z",
          "shell.execute_reply": "2024-03-28T17:20:35.739311Z"
        },
        "papermill": {
          "duration": 0.029776,
          "end_time": "2024-03-28T17:20:35.743401",
          "exception": false,
          "start_time": "2024-03-28T17:20:35.713625",
          "status": "completed"
        },
        "tags": [],
        "id": "d9996b7c"
      },
      "outputs": [],
      "source": [
        "X = cardio.iloc[:, 1:].values # get all record, for each record get all column exclude the first (label) column => independent variable\n",
        "y = cardio.iloc[:, 0].values # get all record, for each record only get the first column => dependent variable or the label need predict"
      ]
    },
    {
      "cell_type": "code",
      "execution_count": 35,
      "id": "8c9d7d68",
      "metadata": {
        "execution": {
          "iopub.execute_input": "2024-03-28T17:20:35.779372Z",
          "iopub.status.busy": "2024-03-28T17:20:35.777832Z",
          "iopub.status.idle": "2024-03-28T17:20:35.785318Z",
          "shell.execute_reply": "2024-03-28T17:20:35.784377Z"
        },
        "papermill": {
          "duration": 0.02749,
          "end_time": "2024-03-28T17:20:35.787746",
          "exception": false,
          "start_time": "2024-03-28T17:20:35.760256",
          "status": "completed"
        },
        "tags": [],
        "id": "8c9d7d68",
        "outputId": "28944814-969c-46c5-9a9c-c6913ad911d7",
        "colab": {
          "base_uri": "https://localhost:8080/"
        }
      },
      "outputs": [
        {
          "output_type": "execute_result",
          "data": {
            "text/plain": [
              "array([0., 0., 0., ..., 0., 0., 1.])"
            ]
          },
          "metadata": {},
          "execution_count": 35
        }
      ],
      "source": [
        "y"
      ]
    },
    {
      "cell_type": "code",
      "execution_count": 36,
      "id": "04954783",
      "metadata": {
        "execution": {
          "iopub.execute_input": "2024-03-28T17:20:35.823384Z",
          "iopub.status.busy": "2024-03-28T17:20:35.822085Z",
          "iopub.status.idle": "2024-03-28T17:20:35.846137Z",
          "shell.execute_reply": "2024-03-28T17:20:35.844904Z"
        },
        "papermill": {
          "duration": 0.044391,
          "end_time": "2024-03-28T17:20:35.848772",
          "exception": false,
          "start_time": "2024-03-28T17:20:35.804381",
          "status": "completed"
        },
        "tags": [],
        "id": "04954783",
        "outputId": "c8f8efd9-df5b-4403-a7e7-813c203921ae",
        "colab": {
          "base_uri": "https://localhost:8080/"
        }
      },
      "outputs": [
        {
          "output_type": "execute_result",
          "data": {
            "text/plain": [
              "array([0, 0, 0, ..., 0, 0, 1])"
            ]
          },
          "metadata": {},
          "execution_count": 36
        }
      ],
      "source": [
        "label_encoder = LabelEncoder()\n",
        "y = label_encoder.fit_transform(y) # convert each label in the original dataset to the unique integer\n",
        "y"
      ]
    },
    {
      "cell_type": "markdown",
      "id": "b55a7d4e",
      "metadata": {
        "papermill": {
          "duration": 0.015812,
          "end_time": "2024-03-28T17:20:35.880854",
          "exception": false,
          "start_time": "2024-03-28T17:20:35.865042",
          "status": "completed"
        },
        "tags": [],
        "id": "b55a7d4e"
      },
      "source": [
        "### Code Explanation:\n",
        "\n",
        "label_encoder = LabelEncoder(): This line creates a LabelEncoder object.\n",
        "\n",
        "y = label_encoder.fit_transform(y): This line performs two steps:\n",
        "\n",
        "fit: It learns how to map labels to numbers based on the data in y. transform: It transforms the labels in y into numerical form based on the learned mapping. The result is a new numpy array y, where each original string label in y has been converted into a unique integer.\n",
        "\n",
        "This process is particularly useful when working with machine learning algorithms, many of which require or perform better with numerical data. Specifically, LabelEncoder is commonly used for encoding labels in classification tasks."
      ]
    },
    {
      "cell_type": "code",
      "execution_count": 37,
      "id": "8429641d",
      "metadata": {
        "execution": {
          "iopub.execute_input": "2024-03-28T17:20:35.916742Z",
          "iopub.status.busy": "2024-03-28T17:20:35.915792Z",
          "iopub.status.idle": "2024-03-28T17:20:35.923636Z",
          "shell.execute_reply": "2024-03-28T17:20:35.922442Z"
        },
        "papermill": {
          "duration": 0.028399,
          "end_time": "2024-03-28T17:20:35.926021",
          "exception": false,
          "start_time": "2024-03-28T17:20:35.897622",
          "status": "completed"
        },
        "tags": [],
        "id": "8429641d",
        "outputId": "c3911ddd-a0e2-4c95-9572-fbf182c9ee30",
        "colab": {
          "base_uri": "https://localhost:8080/"
        }
      },
      "outputs": [
        {
          "output_type": "execute_result",
          "data": {
            "text/plain": [
              "(253680, 21)"
            ]
          },
          "metadata": {},
          "execution_count": 37
        }
      ],
      "source": [
        "X.shape"
      ]
    },
    {
      "cell_type": "code",
      "execution_count": 38,
      "id": "e0928022",
      "metadata": {
        "execution": {
          "iopub.execute_input": "2024-03-28T17:20:36.053356Z",
          "iopub.status.busy": "2024-03-28T17:20:36.052404Z",
          "iopub.status.idle": "2024-03-28T17:20:36.060287Z",
          "shell.execute_reply": "2024-03-28T17:20:36.059121Z"
        },
        "papermill": {
          "duration": 0.120206,
          "end_time": "2024-03-28T17:20:36.062733",
          "exception": false,
          "start_time": "2024-03-28T17:20:35.942527",
          "status": "completed"
        },
        "tags": [],
        "id": "e0928022",
        "outputId": "48a2e47f-e383-43e6-bfd4-f048ef981c93",
        "colab": {
          "base_uri": "https://localhost:8080/"
        }
      },
      "outputs": [
        {
          "output_type": "execute_result",
          "data": {
            "text/plain": [
              "(253680,)"
            ]
          },
          "metadata": {},
          "execution_count": 38
        }
      ],
      "source": [
        "y.shape"
      ]
    },
    {
      "cell_type": "code",
      "execution_count": 39,
      "id": "35906b98",
      "metadata": {
        "execution": {
          "iopub.execute_input": "2024-03-28T17:20:36.100217Z",
          "iopub.status.busy": "2024-03-28T17:20:36.098925Z",
          "iopub.status.idle": "2024-03-28T17:20:36.232778Z",
          "shell.execute_reply": "2024-03-28T17:20:36.231335Z"
        },
        "papermill": {
          "duration": 0.155307,
          "end_time": "2024-03-28T17:20:36.236055",
          "exception": false,
          "start_time": "2024-03-28T17:20:36.080748",
          "status": "completed"
        },
        "tags": [],
        "id": "35906b98",
        "outputId": "7e41453b-e489-4049-ec2e-aa7f4fa6c902",
        "colab": {
          "base_uri": "https://localhost:8080/"
        }
      },
      "outputs": [
        {
          "output_type": "stream",
          "name": "stdout",
          "text": [
            "X_train:  (190260, 21)\n",
            "y_train:  (190260,)\n",
            "---\n",
            "X_test:  (63420, 21)\n",
            "y_test:  (63420,)\n"
          ]
        }
      ],
      "source": [
        "# split the dataset to the train and test set, prepare for training model\n",
        "X_train, X_test, y_train, y_test = train_test_split(X, y, test_size=0.25, random_state=110)\n",
        "\n",
        "print('X_train: ', X_train.shape)\n",
        "print('y_train: ', y_train.shape)\n",
        "print('---')\n",
        "print('X_test: ', X_test.shape)\n",
        "print('y_test: ', y_test.shape)"
      ]
    },
    {
      "cell_type": "markdown",
      "id": "c719c2f9",
      "metadata": {
        "papermill": {
          "duration": 0.01631,
          "end_time": "2024-03-28T17:20:36.269098",
          "exception": false,
          "start_time": "2024-03-28T17:20:36.252788",
          "status": "completed"
        },
        "tags": [],
        "id": "c719c2f9"
      },
      "source": [
        "## Start step build and training model"
      ]
    },
    {
      "cell_type": "code",
      "execution_count": 40,
      "id": "07a7391f",
      "metadata": {
        "execution": {
          "iopub.execute_input": "2024-03-28T17:20:36.338456Z",
          "iopub.status.busy": "2024-03-28T17:20:36.337966Z",
          "iopub.status.idle": "2024-03-28T17:20:36.342898Z",
          "shell.execute_reply": "2024-03-28T17:20:36.341685Z"
        },
        "papermill": {
          "duration": 0.025952,
          "end_time": "2024-03-28T17:20:36.345309",
          "exception": false,
          "start_time": "2024-03-28T17:20:36.319357",
          "status": "completed"
        },
        "tags": [],
        "id": "07a7391f"
      },
      "outputs": [],
      "source": [
        "# define the dictionary to store all results\n",
        "results = {}"
      ]
    },
    {
      "cell_type": "markdown",
      "id": "3f28a7ba",
      "metadata": {
        "papermill": {
          "duration": 0.016497,
          "end_time": "2024-03-28T17:20:36.378688",
          "exception": false,
          "start_time": "2024-03-28T17:20:36.362191",
          "status": "completed"
        },
        "tags": [],
        "id": "3f28a7ba"
      },
      "source": [
        "### 1. Logistic regresssion model"
      ]
    },
    {
      "cell_type": "code",
      "execution_count": 85,
      "id": "a3cd7d92",
      "metadata": {
        "execution": {
          "iopub.execute_input": "2024-03-28T17:20:36.415480Z",
          "iopub.status.busy": "2024-03-28T17:20:36.415008Z",
          "iopub.status.idle": "2024-03-28T17:20:39.462089Z",
          "shell.execute_reply": "2024-03-28T17:20:39.460504Z"
        },
        "papermill": {
          "duration": 3.069042,
          "end_time": "2024-03-28T17:20:39.465161",
          "exception": false,
          "start_time": "2024-03-28T17:20:36.396119",
          "status": "completed"
        },
        "tags": [],
        "id": "a3cd7d92",
        "outputId": "09dfca6e-de28-465e-c2f7-c3cbbccc851e",
        "colab": {
          "base_uri": "https://localhost:8080/"
        }
      },
      "outputs": [
        {
          "output_type": "stream",
          "name": "stdout",
          "text": [
            "CPU times: user 3.93 s, sys: 1.13 s, total: 5.05 s\n",
            "Wall time: 2.64 s\n"
          ]
        }
      ],
      "source": [
        "%%time\n",
        "training_start_time = time.time()\n",
        "\n",
        "logistic_model = LogisticRegression() # call model from lib\n",
        "logistic_model.fit(X_train, y_train) # fit the model with the dataset processed => training model\n",
        "\n",
        "y_pred = logistic_model.predict(X_test)\n",
        "\n",
        "training_end_time = time.time()\n",
        "\n",
        "training_time_total = training_end_time - training_start_time\n",
        "\n",
        "results['Logistic Regression model'] = [\n",
        "    accuracy_score(y_test, y_pred),\n",
        "    precision_score(y_test, y_pred, average='weighted'),\n",
        "    recall_score(y_test, y_pred, average='weighted'),\n",
        "    f1_score(y_test, y_pred, average='weighted'),\n",
        "    training_time_total\n",
        "]"
      ]
    },
    {
      "cell_type": "markdown",
      "id": "c2727c05",
      "metadata": {
        "papermill": {
          "duration": 0.018896,
          "end_time": "2024-03-28T17:20:39.500885",
          "exception": false,
          "start_time": "2024-03-28T17:20:39.481989",
          "status": "completed"
        },
        "tags": [],
        "id": "c2727c05"
      },
      "source": [
        "### The results information"
      ]
    },
    {
      "cell_type": "code",
      "execution_count": 86,
      "id": "94787688",
      "metadata": {
        "execution": {
          "iopub.execute_input": "2024-03-28T17:20:39.537721Z",
          "iopub.status.busy": "2024-03-28T17:20:39.536498Z",
          "iopub.status.idle": "2024-03-28T17:20:39.620875Z",
          "shell.execute_reply": "2024-03-28T17:20:39.619531Z"
        },
        "papermill": {
          "duration": 0.105847,
          "end_time": "2024-03-28T17:20:39.623704",
          "exception": false,
          "start_time": "2024-03-28T17:20:39.517857",
          "status": "completed"
        },
        "tags": [],
        "id": "94787688",
        "outputId": "1d9f0c7d-44c1-4f3d-95dc-184f420f20f2",
        "colab": {
          "base_uri": "https://localhost:8080/"
        }
      },
      "outputs": [
        {
          "output_type": "stream",
          "name": "stdout",
          "text": [
            "accuracy:  <function accuracy_score at 0x79316f09fac0>\n",
            "accuracy:  90.6874802901293\n",
            "precision:  87.76020911868257\n",
            "recall:  90.6874802901293\n",
            "f1_score:  88.07114477753406\n",
            "training time total:  2.5127768516540527\n"
          ]
        }
      ],
      "source": [
        "accuracy_percentage = accuracy_score(y_test, y_pred) * 100\n",
        "precision_percentage = precision_score(y_test, y_pred, average='weighted') * 100\n",
        "recall_percentage = recall_score(y_test, y_pred, average='weighted') * 100\n",
        "f1_score_percentage = f1_score(y_test, y_pred, average='weighted') * 100\n",
        "\n",
        "print('accuracy: ', accuracy_score)\n",
        "print('accuracy: ', accuracy_percentage)\n",
        "print('precision: ', precision_percentage)\n",
        "print('recall: ', recall_percentage)\n",
        "print('f1_score: ', f1_score_percentage)\n",
        "print('training time total: ', training_time_total)"
      ]
    },
    {
      "cell_type": "markdown",
      "id": "6f802ce4",
      "metadata": {
        "papermill": {
          "duration": 0.017201,
          "end_time": "2024-03-28T17:20:39.658975",
          "exception": false,
          "start_time": "2024-03-28T17:20:39.641774",
          "status": "completed"
        },
        "tags": [],
        "id": "6f802ce4"
      },
      "source": [
        "### Confusion matrix heatmap"
      ]
    },
    {
      "cell_type": "code",
      "execution_count": 87,
      "id": "c43924c9",
      "metadata": {
        "execution": {
          "iopub.execute_input": "2024-03-28T17:20:39.695768Z",
          "iopub.status.busy": "2024-03-28T17:20:39.695326Z",
          "iopub.status.idle": "2024-03-28T17:20:40.032634Z",
          "shell.execute_reply": "2024-03-28T17:20:40.031163Z"
        },
        "papermill": {
          "duration": 0.359053,
          "end_time": "2024-03-28T17:20:40.035505",
          "exception": false,
          "start_time": "2024-03-28T17:20:39.676452",
          "status": "completed"
        },
        "tags": [],
        "id": "c43924c9",
        "outputId": "5d51fd50-271c-45fa-86b2-d33970f6b638",
        "colab": {
          "base_uri": "https://localhost:8080/",
          "height": 619
        }
      },
      "outputs": [
        {
          "output_type": "display_data",
          "data": {
            "text/plain": [
              "<Figure size 1000x700 with 2 Axes>"
            ],
            "image/png": "[encoded data removed]"
          },
          "metadata": {}
        }
      ],
      "source": [
        "# Calculate confusion matrix\n",
        "cm = confusion_matrix(y_test, y_pred)\n",
        "\n",
        "plt.figure(figsize=(10,7))\n",
        "sns.heatmap(cm, annot=True, fmt='d', cmap='Blues')\n",
        "plt.xlabel('Predicted')\n",
        "plt.ylabel('Truth')\n",
        "\n",
        "plt.show()"
      ]
    },
    {
      "cell_type": "markdown",
      "id": "c9c9ef8a",
      "metadata": {
        "papermill": {
          "duration": 0.017506,
          "end_time": "2024-03-28T17:20:40.071571",
          "exception": false,
          "start_time": "2024-03-28T17:20:40.054065",
          "status": "completed"
        },
        "tags": [],
        "id": "c9c9ef8a"
      },
      "source": [
        "### Visualize the accuracy, precision, recall, F1_score"
      ]
    },
    {
      "cell_type": "code",
      "execution_count": 88,
      "id": "972f7c36",
      "metadata": {
        "execution": {
          "iopub.execute_input": "2024-03-28T17:20:40.109312Z",
          "iopub.status.busy": "2024-03-28T17:20:40.108810Z",
          "iopub.status.idle": "2024-03-28T17:20:40.411994Z",
          "shell.execute_reply": "2024-03-28T17:20:40.410804Z"
        },
        "papermill": {
          "duration": 0.324846,
          "end_time": "2024-03-28T17:20:40.414238",
          "exception": false,
          "start_time": "2024-03-28T17:20:40.089392",
          "status": "completed"
        },
        "tags": [],
        "id": "972f7c36",
        "outputId": "6bb03a5e-7a8d-475a-ee72-e35da5e2bcf9",
        "colab": {
          "base_uri": "https://localhost:8080/",
          "height": 468
        }
      },
      "outputs": [
        {
          "output_type": "display_data",
          "data": {
            "text/plain": [
              "<Figure size 1000x500 with 1 Axes>"
            ],
            "image/png": "[encoded data removed]"
          },
          "metadata": {}
        }
      ],
      "source": [
        "# Calculate metrics\n",
        "accuracy = accuracy_score(y_test, y_pred) * 100\n",
        "precision = precision_score(y_test, y_pred, average='weighted') * 100\n",
        "recall = recall_score(y_test, y_pred, average='weighted') * 100\n",
        "f1 = f1_score(y_test, y_pred, average='weighted') * 100\n",
        "\n",
        "metrics = ['Accuracy', 'Precision', 'Recall', 'F1_score']\n",
        "values = [accuracy, precision, recall, f1]\n",
        "\n",
        "plt.figure(figsize=(10, 5))\n",
        "plt.bar(metrics, values, color=['#66c5cc', '#f6cf71', '#f89c74', '#8cc765', '#9eb9f3'])\n",
        "plt.ylabel('Percentage')\n",
        "plt.title('Evaluation Metrics')\n",
        "\n",
        "# colors=['#66c5cc', '#f6cf71', '#f89c74', '#8cc765', '#9eb9f3']\n",
        "\n",
        "plt.show()"
      ]
    },
    {
      "cell_type": "code",
      "execution_count": 89,
      "id": "b5ce056c",
      "metadata": {
        "execution": {
          "iopub.execute_input": "2024-03-28T17:20:40.452508Z",
          "iopub.status.busy": "2024-03-28T17:20:40.451717Z",
          "iopub.status.idle": "2024-03-28T17:20:40.457312Z",
          "shell.execute_reply": "2024-03-28T17:20:40.456038Z"
        },
        "papermill": {
          "duration": 0.027343,
          "end_time": "2024-03-28T17:20:40.459466",
          "exception": false,
          "start_time": "2024-03-28T17:20:40.432123",
          "status": "completed"
        },
        "tags": [],
        "id": "b5ce056c",
        "outputId": "910e6684-a157-48c4-d18f-6744eb05be0f",
        "colab": {
          "base_uri": "https://localhost:8080/"
        }
      },
      "outputs": [
        {
          "output_type": "stream",
          "name": "stdout",
          "text": [
            "Completed\n"
          ]
        }
      ],
      "source": [
        "### 1. Logistic regresssion model\n",
        "print(\"Completed\")"
      ]
    },
    {
      "cell_type": "markdown",
      "id": "83f6a9e9",
      "metadata": {
        "papermill": {
          "duration": 0.017283,
          "end_time": "2024-03-28T17:20:40.494792",
          "exception": false,
          "start_time": "2024-03-28T17:20:40.477509",
          "status": "completed"
        },
        "tags": [],
        "id": "83f6a9e9"
      },
      "source": [
        "### 2. k Nearest Neighbors (k-NN)"
      ]
    },
    {
      "cell_type": "code",
      "execution_count": 46,
      "id": "29d2394d",
      "metadata": {
        "execution": {
          "iopub.execute_input": "2024-03-28T17:20:40.533077Z",
          "iopub.status.busy": "2024-03-28T17:20:40.531966Z",
          "iopub.status.idle": "2024-03-28T17:21:10.582119Z",
          "shell.execute_reply": "2024-03-28T17:21:10.580920Z"
        },
        "papermill": {
          "duration": 30.091237,
          "end_time": "2024-03-28T17:21:10.603947",
          "exception": false,
          "start_time": "2024-03-28T17:20:40.512710",
          "status": "completed"
        },
        "tags": [],
        "id": "29d2394d",
        "outputId": "808687c6-b48f-44f3-fc4e-560c618de2e6",
        "colab": {
          "base_uri": "https://localhost:8080/"
        }
      },
      "outputs": [
        {
          "output_type": "stream",
          "name": "stdout",
          "text": [
            "CPU times: user 1min 59s, sys: 380 ms, total: 1min 59s\n",
            "Wall time: 1min 35s\n"
          ]
        }
      ],
      "source": [
        "%%time\n",
        "training_start_time = time.time()\n",
        "\n",
        "knn_model = KNeighborsClassifier(n_neighbors=3) # call model from lib\n",
        "knn_model.fit(X_train, y_train) # fit the model with the dataset processed => training model\n",
        "\n",
        "y_pred = knn_model.predict(X_test)\n",
        "\n",
        "training_end_time = time.time()\n",
        "\n",
        "training_time_total = training_end_time - training_start_time\n",
        "\n",
        "results['k Nearest Neighbors (k-NN)'] = [\n",
        "    accuracy_score(y_test, y_pred),\n",
        "    precision_score(y_test, y_pred, average='weighted'),\n",
        "    recall_score(y_test, y_pred, average='weighted'),\n",
        "    f1_score(y_test, y_pred, average='weighted'),\n",
        "    training_time_total\n",
        "]"
      ]
    },
    {
      "cell_type": "markdown",
      "id": "2ccb50ef",
      "metadata": {
        "papermill": {
          "duration": 0.017816,
          "end_time": "2024-03-28T17:21:10.640752",
          "exception": false,
          "start_time": "2024-03-28T17:21:10.622936",
          "status": "completed"
        },
        "tags": [],
        "id": "2ccb50ef"
      },
      "source": [
        "### The results information"
      ]
    },
    {
      "cell_type": "code",
      "execution_count": 47,
      "id": "e83c6ed5",
      "metadata": {
        "execution": {
          "iopub.execute_input": "2024-03-28T17:21:10.680174Z",
          "iopub.status.busy": "2024-03-28T17:21:10.679372Z",
          "iopub.status.idle": "2024-03-28T17:21:10.761256Z",
          "shell.execute_reply": "2024-03-28T17:21:10.760275Z"
        },
        "papermill": {
          "duration": 0.104222,
          "end_time": "2024-03-28T17:21:10.763720",
          "exception": false,
          "start_time": "2024-03-28T17:21:10.659498",
          "status": "completed"
        },
        "tags": [],
        "id": "e83c6ed5",
        "outputId": "12b4aa95-6ada-4da7-f005-4aa7947d65c3",
        "colab": {
          "base_uri": "https://localhost:8080/"
        }
      },
      "outputs": [
        {
          "output_type": "stream",
          "name": "stdout",
          "text": [
            "accuracy:  <function accuracy_score at 0x79316f09fac0>\n",
            "accuracy:  88.67076631977294\n",
            "precision:  85.82626608349996\n",
            "recall:  88.67076631977294\n",
            "f1_score:  86.99001083216513\n",
            "training time total:  95.27837944030762\n"
          ]
        }
      ],
      "source": [
        "accuracy_percentage = accuracy_score(y_test, y_pred) * 100\n",
        "precision_percentage = precision_score(y_test, y_pred, average='weighted') * 100\n",
        "recall_percentage = recall_score(y_test, y_pred, average='weighted') * 100\n",
        "f1_score_percentage = f1_score(y_test, y_pred, average='weighted') * 100\n",
        "\n",
        "print('accuracy: ', accuracy_score)\n",
        "print('accuracy: ', accuracy_percentage)\n",
        "print('precision: ', precision_percentage)\n",
        "print('recall: ', recall_percentage)\n",
        "print('f1_score: ', f1_score_percentage)\n",
        "print('training time total: ', training_time_total)"
      ]
    },
    {
      "cell_type": "markdown",
      "id": "81cf3c65",
      "metadata": {
        "papermill": {
          "duration": 0.018618,
          "end_time": "2024-03-28T17:21:10.801196",
          "exception": false,
          "start_time": "2024-03-28T17:21:10.782578",
          "status": "completed"
        },
        "tags": [],
        "id": "81cf3c65"
      },
      "source": [
        "### Confusion matrix heatmap"
      ]
    },
    {
      "cell_type": "code",
      "execution_count": 48,
      "id": "30e62784",
      "metadata": {
        "execution": {
          "iopub.execute_input": "2024-03-28T17:21:10.842630Z",
          "iopub.status.busy": "2024-03-28T17:21:10.841819Z",
          "iopub.status.idle": "2024-03-28T17:21:11.131375Z",
          "shell.execute_reply": "2024-03-28T17:21:11.130340Z"
        },
        "papermill": {
          "duration": 0.312839,
          "end_time": "2024-03-28T17:21:11.133838",
          "exception": false,
          "start_time": "2024-03-28T17:21:10.820999",
          "status": "completed"
        },
        "tags": [],
        "id": "30e62784",
        "outputId": "304d6e81-ccb4-40cc-8c58-ee856dc07349",
        "colab": {
          "base_uri": "https://localhost:8080/",
          "height": 619
        }
      },
      "outputs": [
        {
          "output_type": "display_data",
          "data": {
            "text/plain": [
              "<Figure size 1000x700 with 2 Axes>"
            ],
            "image/png": "[encoded data removed]"
          },
          "metadata": {}
        }
      ],
      "source": [
        "# Calculate confusion matrix\n",
        "cm = confusion_matrix(y_test, y_pred)\n",
        "\n",
        "plt.figure(figsize=(10,7))\n",
        "sns.heatmap(cm, annot=True, fmt='d', cmap='Blues')\n",
        "plt.xlabel('Predicted')\n",
        "plt.ylabel('Truth')\n",
        "\n",
        "plt.show()"
      ]
    },
    {
      "cell_type": "markdown",
      "id": "aff54f57",
      "metadata": {
        "papermill": {
          "duration": 0.018709,
          "end_time": "2024-03-28T17:21:11.171801",
          "exception": false,
          "start_time": "2024-03-28T17:21:11.153092",
          "status": "completed"
        },
        "tags": [],
        "id": "aff54f57"
      },
      "source": [
        "### Visualize the accuracy, precision, recall, F1_score"
      ]
    },
    {
      "cell_type": "code",
      "execution_count": 49,
      "id": "c5835833",
      "metadata": {
        "execution": {
          "iopub.execute_input": "2024-03-28T17:21:11.213342Z",
          "iopub.status.busy": "2024-03-28T17:21:11.212017Z",
          "iopub.status.idle": "2024-03-28T17:21:11.508017Z",
          "shell.execute_reply": "2024-03-28T17:21:11.506924Z"
        },
        "papermill": {
          "duration": 0.320484,
          "end_time": "2024-03-28T17:21:11.511017",
          "exception": false,
          "start_time": "2024-03-28T17:21:11.190533",
          "status": "completed"
        },
        "tags": [],
        "id": "c5835833",
        "outputId": "b1a6211c-bfca-40a7-d2fe-f99bf9e95741",
        "colab": {
          "base_uri": "https://localhost:8080/",
          "height": 468
        }
      },
      "outputs": [
        {
          "output_type": "display_data",
          "data": {
            "text/plain": [
              "<Figure size 1000x500 with 1 Axes>"
            ],
            "image/png": "[encoded data removed]"
          },
          "metadata": {}
        }
      ],
      "source": [
        "# Calculate metrics\n",
        "accuracy = accuracy_score(y_test, y_pred) * 100\n",
        "precision = precision_score(y_test, y_pred, average='weighted') * 100\n",
        "recall = recall_score(y_test, y_pred, average='weighted') * 100\n",
        "f1 = f1_score(y_test, y_pred, average='weighted') * 100\n",
        "\n",
        "metrics = ['Accuracy', 'Precision', 'Recall', 'F1_score']\n",
        "values = [accuracy, precision, recall, f1]\n",
        "\n",
        "plt.figure(figsize=(10, 5))\n",
        "plt.bar(metrics, values, color=['#66c5cc', '#f6cf71', '#f89c74', '#8cc765', '#9eb9f3'])\n",
        "plt.ylabel('Percentage')\n",
        "plt.title('Evaluation Metrics')\n",
        "\n",
        "# colors=['#66c5cc', '#f6cf71', '#f89c74', '#8cc765', '#9eb9f3']\n",
        "\n",
        "plt.show()"
      ]
    },
    {
      "cell_type": "code",
      "execution_count": 50,
      "id": "a949c558",
      "metadata": {
        "execution": {
          "iopub.execute_input": "2024-03-28T17:21:11.553036Z",
          "iopub.status.busy": "2024-03-28T17:21:11.551669Z",
          "iopub.status.idle": "2024-03-28T17:21:11.558020Z",
          "shell.execute_reply": "2024-03-28T17:21:11.557012Z"
        },
        "papermill": {
          "duration": 0.029599,
          "end_time": "2024-03-28T17:21:11.560426",
          "exception": false,
          "start_time": "2024-03-28T17:21:11.530827",
          "status": "completed"
        },
        "tags": [],
        "id": "a949c558",
        "outputId": "4b8be0e1-c90c-4572-88a2-da56d92a4981",
        "colab": {
          "base_uri": "https://localhost:8080/"
        }
      },
      "outputs": [
        {
          "output_type": "stream",
          "name": "stdout",
          "text": [
            "Completed\n"
          ]
        }
      ],
      "source": [
        "### 2. k Nearest Neighbors (k-NN)\n",
        "print('Completed')"
      ]
    },
    {
      "cell_type": "markdown",
      "id": "b068ca98",
      "metadata": {
        "papermill": {
          "duration": 0.019467,
          "end_time": "2024-03-28T17:21:11.600143",
          "exception": false,
          "start_time": "2024-03-28T17:21:11.580676",
          "status": "completed"
        },
        "tags": [],
        "id": "b068ca98"
      },
      "source": [
        "### 3. Decision Tree"
      ]
    },
    {
      "cell_type": "code",
      "execution_count": 51,
      "id": "e329fcd7",
      "metadata": {
        "execution": {
          "iopub.execute_input": "2024-03-28T17:21:11.640700Z",
          "iopub.status.busy": "2024-03-28T17:21:11.640194Z",
          "iopub.status.idle": "2024-03-28T17:21:13.829392Z",
          "shell.execute_reply": "2024-03-28T17:21:13.828254Z"
        },
        "papermill": {
          "duration": 2.212914,
          "end_time": "2024-03-28T17:21:13.832108",
          "exception": false,
          "start_time": "2024-03-28T17:21:11.619194",
          "status": "completed"
        },
        "tags": [],
        "id": "e329fcd7",
        "outputId": "c6fb5ce6-cb26-4cd8-924b-bab1cd762b05",
        "colab": {
          "base_uri": "https://localhost:8080/"
        }
      },
      "outputs": [
        {
          "output_type": "stream",
          "name": "stdout",
          "text": [
            "CPU times: user 1.19 s, sys: 4.99 ms, total: 1.19 s\n",
            "Wall time: 1.2 s\n"
          ]
        }
      ],
      "source": [
        "%%time\n",
        "training_start_time = time.time()\n",
        "\n",
        "decision_tree_model = DecisionTreeClassifier() # call model from lib\n",
        "decision_tree_model.fit(X_train, y_train) # fit the model with the dataset processed => training model\n",
        "\n",
        "y_pred = decision_tree_model.predict(X_test)\n",
        "\n",
        "training_end_time = time.time()\n",
        "\n",
        "training_time_total = training_end_time - training_start_time\n",
        "\n",
        "results['Desision Tree'] = [\n",
        "    accuracy_score(y_test, y_pred),\n",
        "    precision_score(y_test, y_pred, average='weighted'),\n",
        "    recall_score(y_test, y_pred, average='weighted'),\n",
        "    f1_score(y_test, y_pred, average='weighted'),\n",
        "    training_time_total\n",
        "]"
      ]
    },
    {
      "cell_type": "markdown",
      "id": "89f9f278",
      "metadata": {
        "papermill": {
          "duration": 0.019083,
          "end_time": "2024-03-28T17:21:13.870456",
          "exception": false,
          "start_time": "2024-03-28T17:21:13.851373",
          "status": "completed"
        },
        "tags": [],
        "id": "89f9f278"
      },
      "source": [
        "### The results information"
      ]
    },
    {
      "cell_type": "code",
      "execution_count": 52,
      "id": "e3109a8e",
      "metadata": {
        "execution": {
          "iopub.execute_input": "2024-03-28T17:21:13.922473Z",
          "iopub.status.busy": "2024-03-28T17:21:13.921201Z",
          "iopub.status.idle": "2024-03-28T17:21:14.011287Z",
          "shell.execute_reply": "2024-03-28T17:21:14.010328Z"
        },
        "papermill": {
          "duration": 0.113624,
          "end_time": "2024-03-28T17:21:14.013743",
          "exception": false,
          "start_time": "2024-03-28T17:21:13.900119",
          "status": "completed"
        },
        "tags": [],
        "id": "e3109a8e",
        "outputId": "4a0f7a93-1e9c-451f-fe0e-f243b32ab5e4",
        "colab": {
          "base_uri": "https://localhost:8080/"
        }
      },
      "outputs": [
        {
          "output_type": "stream",
          "name": "stdout",
          "text": [
            "accuracy:  <function accuracy_score at 0x79316f09fac0>\n",
            "accuracy:  85.02680542415642\n",
            "precision:  86.02549371138655\n",
            "recall:  85.02680542415642\n",
            "f1_score:  85.50836557112932\n",
            "training time total:  1.1271982192993164\n"
          ]
        }
      ],
      "source": [
        "accuracy_percentage = accuracy_score(y_test, y_pred) * 100\n",
        "precision_percentage = precision_score(y_test, y_pred, average='weighted') * 100\n",
        "recall_percentage = recall_score(y_test, y_pred, average='weighted') * 100\n",
        "f1_score_percentage = f1_score(y_test, y_pred, average='weighted') * 100\n",
        "\n",
        "print('accuracy: ', accuracy_score)\n",
        "print('accuracy: ', accuracy_percentage)\n",
        "print('precision: ', precision_percentage)\n",
        "print('recall: ', recall_percentage)\n",
        "print('f1_score: ', f1_score_percentage)\n",
        "print('training time total: ', training_time_total)"
      ]
    },
    {
      "cell_type": "markdown",
      "id": "e6d95679",
      "metadata": {
        "papermill": {
          "duration": 0.018736,
          "end_time": "2024-03-28T17:21:14.052412",
          "exception": false,
          "start_time": "2024-03-28T17:21:14.033676",
          "status": "completed"
        },
        "tags": [],
        "id": "e6d95679"
      },
      "source": [
        "### Confusion matrix heatmap"
      ]
    },
    {
      "cell_type": "code",
      "execution_count": 53,
      "id": "434a0040",
      "metadata": {
        "execution": {
          "iopub.execute_input": "2024-03-28T17:21:14.098765Z",
          "iopub.status.busy": "2024-03-28T17:21:14.097572Z",
          "iopub.status.idle": "2024-03-28T17:21:14.413645Z",
          "shell.execute_reply": "2024-03-28T17:21:14.412492Z"
        },
        "papermill": {
          "duration": 0.34306,
          "end_time": "2024-03-28T17:21:14.416142",
          "exception": false,
          "start_time": "2024-03-28T17:21:14.073082",
          "status": "completed"
        },
        "tags": [],
        "id": "434a0040",
        "outputId": "100d6df7-257f-4840-9021-c9b0953316cd",
        "colab": {
          "base_uri": "https://localhost:8080/",
          "height": 619
        }
      },
      "outputs": [
        {
          "output_type": "display_data",
          "data": {
            "text/plain": [
              "<Figure size 1000x700 with 2 Axes>"
            ],
            "image/png": "[encoded data removed]"
          },
          "metadata": {}
        }
      ],
      "source": [
        "# Calculate confusion matrix\n",
        "cm = confusion_matrix(y_test, y_pred)\n",
        "\n",
        "plt.figure(figsize=(10,7))\n",
        "sns.heatmap(cm, annot=True, fmt='d', cmap='Blues')\n",
        "plt.xlabel('Predicted')\n",
        "plt.ylabel('Truth')\n",
        "\n",
        "plt.show()"
      ]
    },
    {
      "cell_type": "markdown",
      "id": "53811941",
      "metadata": {
        "papermill": {
          "duration": 0.019251,
          "end_time": "2024-03-28T17:21:14.455528",
          "exception": false,
          "start_time": "2024-03-28T17:21:14.436277",
          "status": "completed"
        },
        "tags": [],
        "id": "53811941"
      },
      "source": [
        "### Visualize the accuracy, precision, recall, F1_score"
      ]
    },
    {
      "cell_type": "code",
      "execution_count": 54,
      "id": "56633246",
      "metadata": {
        "execution": {
          "iopub.execute_input": "2024-03-28T17:21:14.497836Z",
          "iopub.status.busy": "2024-03-28T17:21:14.496953Z",
          "iopub.status.idle": "2024-03-28T17:21:14.797825Z",
          "shell.execute_reply": "2024-03-28T17:21:14.796665Z"
        },
        "papermill": {
          "duration": 0.325274,
          "end_time": "2024-03-28T17:21:14.800211",
          "exception": false,
          "start_time": "2024-03-28T17:21:14.474937",
          "status": "completed"
        },
        "tags": [],
        "id": "56633246",
        "outputId": "98e9260a-e48b-4015-d490-1b138e0f3edd",
        "colab": {
          "base_uri": "https://localhost:8080/",
          "height": 468
        }
      },
      "outputs": [
        {
          "output_type": "display_data",
          "data": {
            "text/plain": [
              "<Figure size 1000x500 with 1 Axes>"
            ],
            "image/png": "[encoded data removed]"
          },
          "metadata": {}
        }
      ],
      "source": [
        "# Calculate metrics\n",
        "accuracy = accuracy_score(y_test, y_pred) * 100\n",
        "precision = precision_score(y_test, y_pred, average='weighted') * 100\n",
        "recall = recall_score(y_test, y_pred, average='weighted') * 100\n",
        "f1 = f1_score(y_test, y_pred, average='weighted') * 100\n",
        "\n",
        "metrics = ['Accuracy', 'Precision', 'Recall', 'F1_score']\n",
        "values = [accuracy, precision, recall, f1]\n",
        "\n",
        "plt.figure(figsize=(10, 5))\n",
        "plt.bar(metrics, values, color=['#66c5cc', '#f6cf71', '#f89c74', '#8cc765', '#9eb9f3'])\n",
        "plt.ylabel('Percentage')\n",
        "plt.title('Evaluation Metrics')\n",
        "\n",
        "# colors=['#66c5cc', '#f6cf71', '#f89c74', '#8cc765', '#9eb9f3']\n",
        "\n",
        "plt.show()"
      ]
    },
    {
      "cell_type": "code",
      "execution_count": 55,
      "id": "6c4c480b",
      "metadata": {
        "execution": {
          "iopub.execute_input": "2024-03-28T17:21:14.842734Z",
          "iopub.status.busy": "2024-03-28T17:21:14.841978Z",
          "iopub.status.idle": "2024-03-28T17:21:14.847589Z",
          "shell.execute_reply": "2024-03-28T17:21:14.846356Z"
        },
        "papermill": {
          "duration": 0.0297,
          "end_time": "2024-03-28T17:21:14.849874",
          "exception": false,
          "start_time": "2024-03-28T17:21:14.820174",
          "status": "completed"
        },
        "tags": [],
        "id": "6c4c480b",
        "outputId": "140958cd-8626-4dfc-b209-4b3d850873ee",
        "colab": {
          "base_uri": "https://localhost:8080/"
        }
      },
      "outputs": [
        {
          "output_type": "stream",
          "name": "stdout",
          "text": [
            "Completed\n"
          ]
        }
      ],
      "source": [
        "### 3. Decision Tree\n",
        "print('Completed')"
      ]
    },
    {
      "cell_type": "markdown",
      "id": "ee80e3d5",
      "metadata": {
        "papermill": {
          "duration": 0.019671,
          "end_time": "2024-03-28T17:21:14.889817",
          "exception": false,
          "start_time": "2024-03-28T17:21:14.870146",
          "status": "completed"
        },
        "tags": [],
        "id": "ee80e3d5"
      },
      "source": [
        "### 4. Random forest"
      ]
    },
    {
      "cell_type": "code",
      "execution_count": 56,
      "id": "1e307737",
      "metadata": {
        "execution": {
          "iopub.execute_input": "2024-03-28T17:21:14.932457Z",
          "iopub.status.busy": "2024-03-28T17:21:14.931908Z",
          "iopub.status.idle": "2024-03-28T17:21:55.024614Z",
          "shell.execute_reply": "2024-03-28T17:21:55.023322Z"
        },
        "papermill": {
          "duration": 40.139168,
          "end_time": "2024-03-28T17:21:55.049176",
          "exception": false,
          "start_time": "2024-03-28T17:21:14.910008",
          "status": "completed"
        },
        "tags": [],
        "id": "1e307737",
        "outputId": "8aa2caad-04dd-4a93-ebcd-a8092462cbb1",
        "colab": {
          "base_uri": "https://localhost:8080/"
        }
      },
      "outputs": [
        {
          "output_type": "stream",
          "name": "stdout",
          "text": [
            "CPU times: user 24.4 s, sys: 461 ms, total: 24.9 s\n",
            "Wall time: 25 s\n"
          ]
        }
      ],
      "source": [
        "%%time\n",
        "training_start_time = time.time()\n",
        "\n",
        "random_forest_model = RandomForestClassifier() # call model from lib\n",
        "random_forest_model.fit(X_train, y_train) # fit the model with the dataset processed => training model\n",
        "\n",
        "y_pred = random_forest_model.predict(X_test)\n",
        "\n",
        "training_end_time = time.time()\n",
        "\n",
        "training_time_total = training_end_time - training_start_time\n",
        "\n",
        "results['Random forest'] = [\n",
        "    accuracy_score(y_test, y_pred),\n",
        "    precision_score(y_test, y_pred, average='weighted'),\n",
        "    recall_score(y_test, y_pred, average='weighted'),\n",
        "    f1_score(y_test, y_pred, average='weighted'),\n",
        "    training_time_total\n",
        "]"
      ]
    },
    {
      "cell_type": "markdown",
      "id": "723e4f6d",
      "metadata": {
        "papermill": {
          "duration": 0.019503,
          "end_time": "2024-03-28T17:21:55.088868",
          "exception": false,
          "start_time": "2024-03-28T17:21:55.069365",
          "status": "completed"
        },
        "tags": [],
        "id": "723e4f6d"
      },
      "source": [
        "### The results information"
      ]
    },
    {
      "cell_type": "code",
      "execution_count": 57,
      "id": "d6626f05",
      "metadata": {
        "execution": {
          "iopub.execute_input": "2024-03-28T17:21:55.132072Z",
          "iopub.status.busy": "2024-03-28T17:21:55.131200Z",
          "iopub.status.idle": "2024-03-28T17:21:55.214272Z",
          "shell.execute_reply": "2024-03-28T17:21:55.213091Z"
        },
        "papermill": {
          "duration": 0.108091,
          "end_time": "2024-03-28T17:21:55.216711",
          "exception": false,
          "start_time": "2024-03-28T17:21:55.108620",
          "status": "completed"
        },
        "tags": [],
        "id": "d6626f05",
        "outputId": "9498e594-2462-4811-dbe7-a20b6df45e2d",
        "colab": {
          "base_uri": "https://localhost:8080/"
        }
      },
      "outputs": [
        {
          "output_type": "stream",
          "name": "stdout",
          "text": [
            "accuracy:  <function accuracy_score at 0x79316f09fac0>\n",
            "accuracy:  90.34847051403344\n",
            "precision:  87.00080471902616\n",
            "recall:  90.34847051403344\n",
            "f1_score:  87.70573337685416\n",
            "training time total:  24.915436267852783\n"
          ]
        }
      ],
      "source": [
        "accuracy_percentage = accuracy_score(y_test, y_pred) * 100\n",
        "precision_percentage = precision_score(y_test, y_pred, average='weighted') * 100\n",
        "recall_percentage = recall_score(y_test, y_pred, average='weighted') * 100\n",
        "f1_score_percentage = f1_score(y_test, y_pred, average='weighted') * 100\n",
        "\n",
        "print('accuracy: ', accuracy_score)\n",
        "print('accuracy: ', accuracy_percentage)\n",
        "print('precision: ', precision_percentage)\n",
        "print('recall: ', recall_percentage)\n",
        "print('f1_score: ', f1_score_percentage)\n",
        "print('training time total: ', training_time_total)"
      ]
    },
    {
      "cell_type": "markdown",
      "id": "ae5915c3",
      "metadata": {
        "papermill": {
          "duration": 0.022974,
          "end_time": "2024-03-28T17:21:55.260100",
          "exception": false,
          "start_time": "2024-03-28T17:21:55.237126",
          "status": "completed"
        },
        "tags": [],
        "id": "ae5915c3"
      },
      "source": [
        "### Confusion matrix heatmap"
      ]
    },
    {
      "cell_type": "code",
      "execution_count": 58,
      "id": "31f41be5",
      "metadata": {
        "execution": {
          "iopub.execute_input": "2024-03-28T17:21:55.304538Z",
          "iopub.status.busy": "2024-03-28T17:21:55.303678Z",
          "iopub.status.idle": "2024-03-28T17:21:55.587040Z",
          "shell.execute_reply": "2024-03-28T17:21:55.586017Z"
        },
        "papermill": {
          "duration": 0.309655,
          "end_time": "2024-03-28T17:21:55.589820",
          "exception": false,
          "start_time": "2024-03-28T17:21:55.280165",
          "status": "completed"
        },
        "tags": [],
        "id": "31f41be5",
        "outputId": "ebbb5be6-d8e9-4a6c-c225-7385bc7ec4ab",
        "colab": {
          "base_uri": "https://localhost:8080/",
          "height": 619
        }
      },
      "outputs": [
        {
          "output_type": "display_data",
          "data": {
            "text/plain": [
              "<Figure size 1000x700 with 2 Axes>"
            ],
            "image/png": "[encoded data removed]"
          },
          "metadata": {}
        }
      ],
      "source": [
        "# Calculate confusion matrix\n",
        "cm = confusion_matrix(y_test, y_pred)\n",
        "\n",
        "plt.figure(figsize=(10,7))\n",
        "sns.heatmap(cm, annot=True, fmt='d', cmap='Blues')\n",
        "plt.xlabel('Predicted')\n",
        "plt.ylabel('Truth')\n",
        "\n",
        "plt.show()"
      ]
    },
    {
      "cell_type": "markdown",
      "id": "4bd940a5",
      "metadata": {
        "papermill": {
          "duration": 0.020483,
          "end_time": "2024-03-28T17:21:55.632634",
          "exception": false,
          "start_time": "2024-03-28T17:21:55.612151",
          "status": "completed"
        },
        "tags": [],
        "id": "4bd940a5"
      },
      "source": [
        "### Visualize the accuracy, precision, recall, F1_score"
      ]
    },
    {
      "cell_type": "code",
      "execution_count": 59,
      "id": "a65e8a90",
      "metadata": {
        "execution": {
          "iopub.execute_input": "2024-03-28T17:21:55.676512Z",
          "iopub.status.busy": "2024-03-28T17:21:55.675975Z",
          "iopub.status.idle": "2024-03-28T17:21:55.972406Z",
          "shell.execute_reply": "2024-03-28T17:21:55.971060Z"
        },
        "papermill": {
          "duration": 0.321607,
          "end_time": "2024-03-28T17:21:55.975197",
          "exception": false,
          "start_time": "2024-03-28T17:21:55.653590",
          "status": "completed"
        },
        "tags": [],
        "id": "a65e8a90",
        "outputId": "ae06a2e8-546f-4aca-960d-f4a767a2dacb",
        "colab": {
          "base_uri": "https://localhost:8080/",
          "height": 468
        }
      },
      "outputs": [
        {
          "output_type": "display_data",
          "data": {
            "text/plain": [
              "<Figure size 1000x500 with 1 Axes>"
            ],
            "image/png": "[encoded data removed]"
          },
          "metadata": {}
        }
      ],
      "source": [
        "# Calculate metrics\n",
        "accuracy = accuracy_score(y_test, y_pred) * 100\n",
        "precision = precision_score(y_test, y_pred, average='weighted') * 100\n",
        "recall = recall_score(y_test, y_pred, average='weighted') * 100\n",
        "f1 = f1_score(y_test, y_pred, average='weighted') * 100\n",
        "\n",
        "metrics = ['Accuracy', 'Precision', 'Recall', 'F1_score']\n",
        "values = [accuracy, precision, recall, f1]\n",
        "\n",
        "plt.figure(figsize=(10, 5))\n",
        "plt.bar(metrics, values, color=['#66c5cc', '#f6cf71', '#f89c74', '#8cc765', '#9eb9f3'])\n",
        "plt.ylabel('Percentage')\n",
        "plt.title('Evaluation Metrics')\n",
        "\n",
        "# colors=['#66c5cc', '#f6cf71', '#f89c74', '#8cc765', '#9eb9f3']\n",
        "\n",
        "plt.show()"
      ]
    },
    {
      "cell_type": "code",
      "execution_count": 60,
      "id": "664f96e9",
      "metadata": {
        "execution": {
          "iopub.execute_input": "2024-03-28T17:21:56.020995Z",
          "iopub.status.busy": "2024-03-28T17:21:56.020529Z",
          "iopub.status.idle": "2024-03-28T17:21:56.026191Z",
          "shell.execute_reply": "2024-03-28T17:21:56.025176Z"
        },
        "papermill": {
          "duration": 0.032392,
          "end_time": "2024-03-28T17:21:56.028739",
          "exception": false,
          "start_time": "2024-03-28T17:21:55.996347",
          "status": "completed"
        },
        "tags": [],
        "id": "664f96e9",
        "outputId": "4965e49c-c708-4ef3-d48c-0f352ef87659",
        "colab": {
          "base_uri": "https://localhost:8080/"
        }
      },
      "outputs": [
        {
          "output_type": "stream",
          "name": "stdout",
          "text": [
            "Completed\n"
          ]
        }
      ],
      "source": [
        "### 4. Random forest\n",
        "print('Completed')"
      ]
    },
    {
      "cell_type": "markdown",
      "id": "29247feb",
      "metadata": {
        "papermill": {
          "duration": 0.020738,
          "end_time": "2024-03-28T17:21:56.071097",
          "exception": false,
          "start_time": "2024-03-28T17:21:56.050359",
          "status": "completed"
        },
        "tags": [],
        "id": "29247feb"
      },
      "source": [
        "### 5. Neural networks"
      ]
    },
    {
      "cell_type": "code",
      "execution_count": 61,
      "id": "4eeb87d3",
      "metadata": {
        "execution": {
          "iopub.execute_input": "2024-03-28T17:21:56.115298Z",
          "iopub.status.busy": "2024-03-28T17:21:56.114548Z",
          "iopub.status.idle": "2024-03-28T17:24:29.656125Z",
          "shell.execute_reply": "2024-03-28T17:24:29.654845Z"
        },
        "papermill": {
          "duration": 153.587668,
          "end_time": "2024-03-28T17:24:29.679661",
          "exception": false,
          "start_time": "2024-03-28T17:21:56.091993",
          "status": "completed"
        },
        "tags": [],
        "id": "4eeb87d3",
        "outputId": "784450e8-9d7b-4dcb-b5ee-35c889538e94",
        "colab": {
          "base_uri": "https://localhost:8080/"
        }
      },
      "outputs": [
        {
          "output_type": "stream",
          "name": "stdout",
          "text": [
            "CPU times: user 2min 56s, sys: 1min 41s, total: 4min 38s\n",
            "Wall time: 2min 52s\n"
          ]
        }
      ],
      "source": [
        "%%time\n",
        "training_start_time = time.time()\n",
        "\n",
        "neural_network_model = MLPClassifier() # call model from lib\n",
        "neural_network_model.fit(X_train, y_train) # fit the model with the dataset processed => training model\n",
        "\n",
        "y_pred = neural_network_model.predict(X_test)\n",
        "\n",
        "training_end_time = time.time()\n",
        "\n",
        "training_time_total = training_end_time - training_start_time\n",
        "\n",
        "results['Neural Networks (Multi-layer Perceptron)'] = [\n",
        "    accuracy_score(y_test, y_pred),\n",
        "    precision_score(y_test, y_pred, average='weighted'),\n",
        "    recall_score(y_test, y_pred, average='weighted'),\n",
        "    f1_score(y_test, y_pred, average='weighted'),\n",
        "    training_time_total\n",
        "]"
      ]
    },
    {
      "cell_type": "markdown",
      "id": "769bec41",
      "metadata": {
        "papermill": {
          "duration": 0.020413,
          "end_time": "2024-03-28T17:24:29.720892",
          "exception": false,
          "start_time": "2024-03-28T17:24:29.700479",
          "status": "completed"
        },
        "tags": [],
        "id": "769bec41"
      },
      "source": [
        "### The results information"
      ]
    },
    {
      "cell_type": "code",
      "execution_count": 62,
      "id": "8e9b7247",
      "metadata": {
        "execution": {
          "iopub.execute_input": "2024-03-28T17:24:29.765215Z",
          "iopub.status.busy": "2024-03-28T17:24:29.764481Z",
          "iopub.status.idle": "2024-03-28T17:24:29.844856Z",
          "shell.execute_reply": "2024-03-28T17:24:29.843612Z"
        },
        "papermill": {
          "duration": 0.105563,
          "end_time": "2024-03-28T17:24:29.847199",
          "exception": false,
          "start_time": "2024-03-28T17:24:29.741636",
          "status": "completed"
        },
        "tags": [],
        "id": "8e9b7247",
        "outputId": "39f74469-18ba-4111-d966-45f4e42da903",
        "colab": {
          "base_uri": "https://localhost:8080/"
        }
      },
      "outputs": [
        {
          "output_type": "stream",
          "name": "stdout",
          "text": [
            "accuracy:  <function accuracy_score at 0x79316f09fac0>\n",
            "accuracy:  90.75685903500474\n",
            "precision:  87.99080750262411\n",
            "recall:  90.75685903500474\n",
            "f1_score:  88.26452083525933\n",
            "training time total:  172.41807627677917\n"
          ]
        }
      ],
      "source": [
        "accuracy_percentage = accuracy_score(y_test, y_pred) * 100\n",
        "precision_percentage = precision_score(y_test, y_pred, average='weighted') * 100\n",
        "recall_percentage = recall_score(y_test, y_pred, average='weighted') * 100\n",
        "f1_score_percentage = f1_score(y_test, y_pred, average='weighted') * 100\n",
        "\n",
        "print('accuracy: ', accuracy_score)\n",
        "print('accuracy: ', accuracy_percentage)\n",
        "print('precision: ', precision_percentage)\n",
        "print('recall: ', recall_percentage)\n",
        "print('f1_score: ', f1_score_percentage)\n",
        "print('training time total: ', training_time_total)"
      ]
    },
    {
      "cell_type": "markdown",
      "id": "2335dbea",
      "metadata": {
        "papermill": {
          "duration": 0.021642,
          "end_time": "2024-03-28T17:24:29.890799",
          "exception": false,
          "start_time": "2024-03-28T17:24:29.869157",
          "status": "completed"
        },
        "tags": [],
        "id": "2335dbea"
      },
      "source": [
        "### Confusion matrix heatmap"
      ]
    },
    {
      "cell_type": "code",
      "execution_count": 63,
      "id": "3d7cf957",
      "metadata": {
        "execution": {
          "iopub.execute_input": "2024-03-28T17:24:29.938154Z",
          "iopub.status.busy": "2024-03-28T17:24:29.937433Z",
          "iopub.status.idle": "2024-03-28T17:24:30.263549Z",
          "shell.execute_reply": "2024-03-28T17:24:30.262328Z"
        },
        "papermill": {
          "duration": 0.352341,
          "end_time": "2024-03-28T17:24:30.265876",
          "exception": false,
          "start_time": "2024-03-28T17:24:29.913535",
          "status": "completed"
        },
        "tags": [],
        "id": "3d7cf957",
        "outputId": "c7ee434e-9576-49bb-d081-7937eee34a0c",
        "colab": {
          "base_uri": "https://localhost:8080/",
          "height": 619
        }
      },
      "outputs": [
        {
          "output_type": "display_data",
          "data": {
            "text/plain": [
              "<Figure size 1000x700 with 2 Axes>"
            ],
            "image/png": "[encoded data removed]"
          },
          "metadata": {}
        }
      ],
      "source": [
        "# Calculate confusion matrix\n",
        "cm = confusion_matrix(y_test, y_pred)\n",
        "\n",
        "plt.figure(figsize=(10,7))\n",
        "sns.heatmap(cm, annot=True, fmt='d', cmap='Blues')\n",
        "plt.xlabel('Predicted')\n",
        "plt.ylabel('Truth')\n",
        "\n",
        "plt.show()"
      ]
    },
    {
      "cell_type": "markdown",
      "id": "b553f5dd",
      "metadata": {
        "papermill": {
          "duration": 0.021197,
          "end_time": "2024-03-28T17:24:30.308143",
          "exception": false,
          "start_time": "2024-03-28T17:24:30.286946",
          "status": "completed"
        },
        "tags": [],
        "id": "b553f5dd"
      },
      "source": [
        "### Visualize the accuracy, precision, recall, F1_score"
      ]
    },
    {
      "cell_type": "code",
      "execution_count": 64,
      "id": "c125f9b7",
      "metadata": {
        "execution": {
          "iopub.execute_input": "2024-03-28T17:24:30.353122Z",
          "iopub.status.busy": "2024-03-28T17:24:30.352395Z",
          "iopub.status.idle": "2024-03-28T17:24:30.676649Z",
          "shell.execute_reply": "2024-03-28T17:24:30.675668Z"
        },
        "papermill": {
          "duration": 0.349935,
          "end_time": "2024-03-28T17:24:30.679304",
          "exception": false,
          "start_time": "2024-03-28T17:24:30.329369",
          "status": "completed"
        },
        "tags": [],
        "id": "c125f9b7",
        "outputId": "99e226ae-5931-4a8f-a85c-fd54c2721d66",
        "colab": {
          "base_uri": "https://localhost:8080/",
          "height": 468
        }
      },
      "outputs": [
        {
          "output_type": "display_data",
          "data": {
            "text/plain": [
              "<Figure size 1000x500 with 1 Axes>"
            ],
            "image/png": "[encoded data removed]"
          },
          "metadata": {}
        }
      ],
      "source": [
        "# Calculate metrics\n",
        "accuracy = accuracy_score(y_test, y_pred) * 100\n",
        "precision = precision_score(y_test, y_pred, average='weighted') * 100\n",
        "recall = recall_score(y_test, y_pred, average='weighted') * 100\n",
        "f1 = f1_score(y_test, y_pred, average='weighted') * 100\n",
        "\n",
        "metrics = ['Accuracy', 'Precision', 'Recall', 'F1_score']\n",
        "values = [accuracy, precision, recall, f1]\n",
        "\n",
        "plt.figure(figsize=(10, 5))\n",
        "plt.bar(metrics, values, color=['#66c5cc', '#f6cf71', '#f89c74', '#8cc765', '#9eb9f3'])\n",
        "plt.ylabel('Percentage')\n",
        "plt.title('Evaluation Metrics')\n",
        "\n",
        "# colors=['#66c5cc', '#f6cf71', '#f89c74', '#8cc765', '#9eb9f3']\n",
        "\n",
        "plt.show()"
      ]
    },
    {
      "cell_type": "code",
      "execution_count": 65,
      "id": "16e6f73c",
      "metadata": {
        "execution": {
          "iopub.execute_input": "2024-03-28T17:24:30.728732Z",
          "iopub.status.busy": "2024-03-28T17:24:30.727650Z",
          "iopub.status.idle": "2024-03-28T17:24:30.733138Z",
          "shell.execute_reply": "2024-03-28T17:24:30.732283Z"
        },
        "papermill": {
          "duration": 0.03282,
          "end_time": "2024-03-28T17:24:30.735367",
          "exception": false,
          "start_time": "2024-03-28T17:24:30.702547",
          "status": "completed"
        },
        "tags": [],
        "id": "16e6f73c",
        "outputId": "72731fcf-2934-4329-e72a-d3d7fd60f797",
        "colab": {
          "base_uri": "https://localhost:8080/"
        }
      },
      "outputs": [
        {
          "output_type": "stream",
          "name": "stdout",
          "text": [
            "Completed\n"
          ]
        }
      ],
      "source": [
        "### 5. Neural networks\n",
        "print('Completed')"
      ]
    },
    {
      "cell_type": "code",
      "source": [
        "results"
      ],
      "metadata": {
        "colab": {
          "base_uri": "https://localhost:8080/"
        },
        "id": "WH0vvd_UDcF5",
        "outputId": "8ec84e11-1e94-4a2e-e45c-0d6bf4b812e9"
      },
      "id": "WH0vvd_UDcF5",
      "execution_count": 66,
      "outputs": [
        {
          "output_type": "execute_result",
          "data": {
            "text/plain": [
              "{'Logistic Regression model': [0.906874802901293,\n",
              "  0.8776020911868256,\n",
              "  0.906874802901293,\n",
              "  0.8807114477753406,\n",
              "  5.595244646072388],\n",
              " 'k Nearest Neighbors (k-NN)': [0.8867076631977294,\n",
              "  0.8582626608349996,\n",
              "  0.8867076631977294,\n",
              "  0.8699001083216513,\n",
              "  95.27837944030762],\n",
              " 'Desision Tree': [0.8502680542415642,\n",
              "  0.8602549371138655,\n",
              "  0.8502680542415642,\n",
              "  0.8550836557112932,\n",
              "  1.1271982192993164],\n",
              " 'Random forest': [0.9034847051403343,\n",
              "  0.8700080471902616,\n",
              "  0.9034847051403343,\n",
              "  0.8770573337685416,\n",
              "  24.915436267852783],\n",
              " 'Neural Networks (Multi-layer Perceptron)': [0.9075685903500473,\n",
              "  0.8799080750262411,\n",
              "  0.9075685903500473,\n",
              "  0.8826452083525933,\n",
              "  172.41807627677917]}"
            ]
          },
          "metadata": {},
          "execution_count": 66
        }
      ]
    },
    {
      "cell_type": "markdown",
      "id": "2e09d0d1",
      "metadata": {
        "papermill": {
          "duration": 0.021444,
          "end_time": "2024-03-28T17:24:30.779444",
          "exception": false,
          "start_time": "2024-03-28T17:24:30.758000",
          "status": "completed"
        },
        "tags": [],
        "id": "2e09d0d1"
      },
      "source": [
        "## Compare results"
      ]
    },
    {
      "cell_type": "code",
      "execution_count": 67,
      "id": "fc1e4ab4",
      "metadata": {
        "execution": {
          "iopub.execute_input": "2024-03-28T17:24:30.826513Z",
          "iopub.status.busy": "2024-03-28T17:24:30.825765Z",
          "iopub.status.idle": "2024-03-28T17:24:30.839552Z",
          "shell.execute_reply": "2024-03-28T17:24:30.838645Z"
        },
        "papermill": {
          "duration": 0.040871,
          "end_time": "2024-03-28T17:24:30.841728",
          "exception": false,
          "start_time": "2024-03-28T17:24:30.800857",
          "status": "completed"
        },
        "tags": [],
        "id": "fc1e4ab4",
        "outputId": "26d288bc-6a73-4aab-8a94-f964f84b722c",
        "colab": {
          "base_uri": "https://localhost:8080/",
          "height": 206
        }
      },
      "outputs": [
        {
          "output_type": "execute_result",
          "data": {
            "text/plain": [
              "                                          Accuracy  Precision    Recall  \\\n",
              "Logistic Regression model                 0.906875   0.877602  0.906875   \n",
              "k Nearest Neighbors (k-NN)                0.886708   0.858263  0.886708   \n",
              "Desision Tree                             0.850268   0.860255  0.850268   \n",
              "Random forest                             0.903485   0.870008  0.903485   \n",
              "Neural Networks (Multi-layer Perceptron)  0.907569   0.879908  0.907569   \n",
              "\n",
              "                                          F1_score  Training time total  \n",
              "Logistic Regression model                 0.880711             5.595245  \n",
              "k Nearest Neighbors (k-NN)                0.869900            95.278379  \n",
              "Desision Tree                             0.855084             1.127198  \n",
              "Random forest                             0.877057            24.915436  \n",
              "Neural Networks (Multi-layer Perceptron)  0.882645           172.418076  "
            ],
            "text/html": [
              "\n",
              "  <div id=\"df-1db9b46f-788e-4e47-833b-8c7b50acc79b\" class=\"colab-df-container\">\n",
              "    <div>\n",
              "<style scoped>\n",
              "    .dataframe tbody tr th:only-of-type {\n",
              "        vertical-align: middle;\n",
              "    }\n",
              "\n",
              "    .dataframe tbody tr th {\n",
              "        vertical-align: top;\n",
              "    }\n",
              "\n",
              "    .dataframe thead th {\n",
              "        text-align: right;\n",
              "    }\n",
              "</style>\n",
              "<table border=\"1\" class=\"dataframe\">\n",
              "  <thead>\n",
              "    <tr style=\"text-align: right;\">\n",
              "      <th></th>\n",
              "      <th>Accuracy</th>\n",
              "      <th>Precision</th>\n",
              "      <th>Recall</th>\n",
              "      <th>F1_score</th>\n",
              "      <th>Training time total</th>\n",
              "    </tr>\n",
              "  </thead>\n",
              "  <tbody>\n",
              "    <tr>\n",
              "      <th>Logistic Regression model</th>\n",
              "      <td>0.906875</td>\n",
              "      <td>0.877602</td>\n",
              "      <td>0.906875</td>\n",
              "      <td>0.880711</td>\n",
              "      <td>5.595245</td>\n",
              "    </tr>\n",
              "    <tr>\n",
              "      <th>k Nearest Neighbors (k-NN)</th>\n",
              "      <td>0.886708</td>\n",
              "      <td>0.858263</td>\n",
              "      <td>0.886708</td>\n",
              "      <td>0.869900</td>\n",
              "      <td>95.278379</td>\n",
              "    </tr>\n",
              "    <tr>\n",
              "      <th>Desision Tree</th>\n",
              "      <td>0.850268</td>\n",
              "      <td>0.860255</td>\n",
              "      <td>0.850268</td>\n",
              "      <td>0.855084</td>\n",
              "      <td>1.127198</td>\n",
              "    </tr>\n",
              "    <tr>\n",
              "      <th>Random forest</th>\n",
              "      <td>0.903485</td>\n",
              "      <td>0.870008</td>\n",
              "      <td>0.903485</td>\n",
              "      <td>0.877057</td>\n",
              "      <td>24.915436</td>\n",
              "    </tr>\n",
              "    <tr>\n",
              "      <th>Neural Networks (Multi-layer Perceptron)</th>\n",
              "      <td>0.907569</td>\n",
              "      <td>0.879908</td>\n",
              "      <td>0.907569</td>\n",
              "      <td>0.882645</td>\n",
              "      <td>172.418076</td>\n",
              "    </tr>\n",
              "  </tbody>\n",
              "</table>\n",
              "</div>\n",
              "    <div class=\"colab-df-buttons\">\n",
              "\n",
              "  <div class=\"colab-df-container\">\n",
              "    <button class=\"colab-df-convert\" onclick=\"convertToInteractive('df-1db9b46f-788e-4e47-833b-8c7b50acc79b')\"\n",
              "            title=\"Convert this dataframe to an interactive table.\"\n",
              "            style=\"display:none;\">\n",
              "\n",
              "  <svg xmlns=\"http://www.w3.org/2000/svg\" height=\"24px\" viewBox=\"0 -960 960 960\">\n",
              "    <path d=\"M120-120v-720h720v720H120Zm60-500h600v-160H180v160Zm220 220h160v-160H400v160Zm0 220h160v-160H400v160ZM180-400h160v-160H180v160Zm440 0h160v-160H620v160ZM180-180h160v-160H180v160Zm440 0h160v-160H620v160Z\"/>\n",
              "  </svg>\n",
              "    </button>\n",
              "\n",
              "  <style>\n",
              "    .colab-df-container {\n",
              "      display:flex;\n",
              "      gap: 12px;\n",
              "    }\n",
              "\n",
              "    .colab-df-convert {\n",
              "      background-color: #E8F0FE;\n",
              "      border: none;\n",
              "      border-radius: 50%;\n",
              "      cursor: pointer;\n",
              "      display: none;\n",
              "      fill: #1967D2;\n",
              "      height: 32px;\n",
              "      padding: 0 0 0 0;\n",
              "      width: 32px;\n",
              "    }\n",
              "\n",
              "    .colab-df-convert:hover {\n",
              "      background-color: #E2EBFA;\n",
              "      box-shadow: 0px 1px 2px rgba(60, 64, 67, 0.3), 0px 1px 3px 1px rgba(60, 64, 67, 0.15);\n",
              "      fill: #174EA6;\n",
              "    }\n",
              "\n",
              "    .colab-df-buttons div {\n",
              "      margin-bottom: 4px;\n",
              "    }\n",
              "\n",
              "    [theme=dark] .colab-df-convert {\n",
              "      background-color: #3B4455;\n",
              "      fill: #D2E3FC;\n",
              "    }\n",
              "\n",
              "    [theme=dark] .colab-df-convert:hover {\n",
              "      background-color: #434B5C;\n",
              "      box-shadow: 0px 1px 3px 1px rgba(0, 0, 0, 0.15);\n",
              "      filter: drop-shadow(0px 1px 2px rgba(0, 0, 0, 0.3));\n",
              "      fill: #FFFFFF;\n",
              "    }\n",
              "  </style>\n",
              "\n",
              "    <script>\n",
              "      const buttonEl =\n",
              "        document.querySelector('#df-1db9b46f-788e-4e47-833b-8c7b50acc79b button.colab-df-convert');\n",
              "      buttonEl.style.display =\n",
              "        google.colab.kernel.accessAllowed ? 'block' : 'none';\n",
              "\n",
              "      async function convertToInteractive(key) {\n",
              "        const element = document.querySelector('#df-1db9b46f-788e-4e47-833b-8c7b50acc79b');\n",
              "        const dataTable =\n",
              "          await google.colab.kernel.invokeFunction('convertToInteractive',\n",
              "                                                    [key], {});\n",
              "        if (!dataTable) return;\n",
              "\n",
              "        const docLinkHtml = 'Like what you see? Visit the ' +\n",
              "          '<a target=\"_blank\" href=https://colab.research.google.com/notebooks/data_table.ipynb>data table notebook</a>'\n",
              "          + ' to learn more about interactive tables.';\n",
              "        element.innerHTML = '';\n",
              "        dataTable['output_type'] = 'display_data';\n",
              "        await google.colab.output.renderOutput(dataTable, element);\n",
              "        const docLink = document.createElement('div');\n",
              "        docLink.innerHTML = docLinkHtml;\n",
              "        element.appendChild(docLink);\n",
              "      }\n",
              "    </script>\n",
              "  </div>\n",
              "\n",
              "\n",
              "<div id=\"df-97df2830-33c0-495e-b6f6-a3ea1909fe99\">\n",
              "  <button class=\"colab-df-quickchart\" onclick=\"quickchart('df-97df2830-33c0-495e-b6f6-a3ea1909fe99')\"\n",
              "            title=\"Suggest charts\"\n",
              "            style=\"display:none;\">\n",
              "\n",
              "<svg xmlns=\"http://www.w3.org/2000/svg\" height=\"24px\"viewBox=\"0 0 24 24\"\n",
              "     width=\"24px\">\n",
              "    <g>\n",
              "        <path d=\"M19 3H5c-1.1 0-2 .9-2 2v14c0 1.1.9 2 2 2h14c1.1 0 2-.9 2-2V5c0-1.1-.9-2-2-2zM9 17H7v-7h2v7zm4 0h-2V7h2v10zm4 0h-2v-4h2v4z\"/>\n",
              "    </g>\n",
              "</svg>\n",
              "  </button>\n",
              "\n",
              "<style>\n",
              "  .colab-df-quickchart {\n",
              "      --bg-color: #E8F0FE;\n",
              "      --fill-color: #1967D2;\n",
              "      --hover-bg-color: #E2EBFA;\n",
              "      --hover-fill-color: #174EA6;\n",
              "      --disabled-fill-color: #AAA;\n",
              "      --disabled-bg-color: #DDD;\n",
              "  }\n",
              "\n",
              "  [theme=dark] .colab-df-quickchart {\n",
              "      --bg-color: #3B4455;\n",
              "      --fill-color: #D2E3FC;\n",
              "      --hover-bg-color: #434B5C;\n",
              "      --hover-fill-color: #FFFFFF;\n",
              "      --disabled-bg-color: #3B4455;\n",
              "      --disabled-fill-color: #666;\n",
              "  }\n",
              "\n",
              "  .colab-df-quickchart {\n",
              "    background-color: var(--bg-color);\n",
              "    border: none;\n",
              "    border-radius: 50%;\n",
              "    cursor: pointer;\n",
              "    display: none;\n",
              "    fill: var(--fill-color);\n",
              "    height: 32px;\n",
              "    padding: 0;\n",
              "    width: 32px;\n",
              "  }\n",
              "\n",
              "  .colab-df-quickchart:hover {\n",
              "    background-color: var(--hover-bg-color);\n",
              "    box-shadow: 0 1px 2px rgba(60, 64, 67, 0.3), 0 1px 3px 1px rgba(60, 64, 67, 0.15);\n",
              "    fill: var(--button-hover-fill-color);\n",
              "  }\n",
              "\n",
              "  .colab-df-quickchart-complete:disabled,\n",
              "  .colab-df-quickchart-complete:disabled:hover {\n",
              "    background-color: var(--disabled-bg-color);\n",
              "    fill: var(--disabled-fill-color);\n",
              "    box-shadow: none;\n",
              "  }\n",
              "\n",
              "  .colab-df-spinner {\n",
              "    border: 2px solid var(--fill-color);\n",
              "    border-color: transparent;\n",
              "    border-bottom-color: var(--fill-color);\n",
              "    animation:\n",
              "      spin 1s steps(1) infinite;\n",
              "  }\n",
              "\n",
              "  @keyframes spin {\n",
              "    0% {\n",
              "      border-color: transparent;\n",
              "      border-bottom-color: var(--fill-color);\n",
              "      border-left-color: var(--fill-color);\n",
              "    }\n",
              "    20% {\n",
              "      border-color: transparent;\n",
              "      border-left-color: var(--fill-color);\n",
              "      border-top-color: var(--fill-color);\n",
              "    }\n",
              "    30% {\n",
              "      border-color: transparent;\n",
              "      border-left-color: var(--fill-color);\n",
              "      border-top-color: var(--fill-color);\n",
              "      border-right-color: var(--fill-color);\n",
              "    }\n",
              "    40% {\n",
              "      border-color: transparent;\n",
              "      border-right-color: var(--fill-color);\n",
              "      border-top-color: var(--fill-color);\n",
              "    }\n",
              "    60% {\n",
              "      border-color: transparent;\n",
              "      border-right-color: var(--fill-color);\n",
              "    }\n",
              "    80% {\n",
              "      border-color: transparent;\n",
              "      border-right-color: var(--fill-color);\n",
              "      border-bottom-color: var(--fill-color);\n",
              "    }\n",
              "    90% {\n",
              "      border-color: transparent;\n",
              "      border-bottom-color: var(--fill-color);\n",
              "    }\n",
              "  }\n",
              "</style>\n",
              "\n",
              "  <script>\n",
              "    async function quickchart(key) {\n",
              "      const quickchartButtonEl =\n",
              "        document.querySelector('#' + key + ' button');\n",
              "      quickchartButtonEl.disabled = true;  // To prevent multiple clicks.\n",
              "      quickchartButtonEl.classList.add('colab-df-spinner');\n",
              "      try {\n",
              "        const charts = await google.colab.kernel.invokeFunction(\n",
              "            'suggestCharts', [key], {});\n",
              "      } catch (error) {\n",
              "        console.error('Error during call to suggestCharts:', error);\n",
              "      }\n",
              "      quickchartButtonEl.classList.remove('colab-df-spinner');\n",
              "      quickchartButtonEl.classList.add('colab-df-quickchart-complete');\n",
              "    }\n",
              "    (() => {\n",
              "      let quickchartButtonEl =\n",
              "        document.querySelector('#df-97df2830-33c0-495e-b6f6-a3ea1909fe99 button');\n",
              "      quickchartButtonEl.style.display =\n",
              "        google.colab.kernel.accessAllowed ? 'block' : 'none';\n",
              "    })();\n",
              "  </script>\n",
              "</div>\n",
              "    </div>\n",
              "  </div>\n"
            ],
            "application/vnd.google.colaboratory.intrinsic+json": {
              "type": "dataframe",
              "variable_name": "dataframe_results",
              "summary": "{\n  \"name\": \"dataframe_results\",\n  \"rows\": 5,\n  \"fields\": [\n    {\n      \"column\": \"Accuracy\",\n      \"properties\": {\n        \"dtype\": \"number\",\n        \"std\": 0.02428944794554357,\n        \"min\": 0.8502680542415642,\n        \"max\": 0.9075685903500473,\n        \"num_unique_values\": 5,\n        \"samples\": [\n          0.8867076631977294,\n          0.9075685903500473,\n          0.8502680542415642\n        ],\n        \"semantic_type\": \"\",\n        \"description\": \"\"\n      }\n    },\n    {\n      \"column\": \"Precision\",\n      \"properties\": {\n        \"dtype\": \"number\",\n        \"std\": 0.009817716497454946,\n        \"min\": 0.8582626608349996,\n        \"max\": 0.8799080750262411,\n        \"num_unique_values\": 5,\n        \"samples\": [\n          0.8582626608349996,\n          0.8799080750262411,\n          0.8602549371138655\n        ],\n        \"semantic_type\": \"\",\n        \"description\": \"\"\n      }\n    },\n    {\n      \"column\": \"Recall\",\n      \"properties\": {\n        \"dtype\": \"number\",\n        \"std\": 0.02428944794554357,\n        \"min\": 0.8502680542415642,\n        \"max\": 0.9075685903500473,\n        \"num_unique_values\": 5,\n        \"samples\": [\n          0.8867076631977294,\n          0.9075685903500473,\n          0.8502680542415642\n        ],\n        \"semantic_type\": \"\",\n        \"description\": \"\"\n      }\n    },\n    {\n      \"column\": \"F1_score\",\n      \"properties\": {\n        \"dtype\": \"number\",\n        \"std\": 0.011175100757010958,\n        \"min\": 0.8550836557112932,\n        \"max\": 0.8826452083525933,\n        \"num_unique_values\": 5,\n        \"samples\": [\n          0.8699001083216513,\n          0.8826452083525933,\n          0.8550836557112932\n        ],\n        \"semantic_type\": \"\",\n        \"description\": \"\"\n      }\n    },\n    {\n      \"column\": \"Training time total\",\n      \"properties\": {\n        \"dtype\": \"number\",\n        \"std\": 73.38104338756918,\n        \"min\": 1.1271982192993164,\n        \"max\": 172.41807627677917,\n        \"num_unique_values\": 5,\n        \"samples\": [\n          95.27837944030762,\n          172.41807627677917,\n          1.1271982192993164\n        ],\n        \"semantic_type\": \"\",\n        \"description\": \"\"\n      }\n    }\n  ]\n}"
            }
          },
          "metadata": {},
          "execution_count": 67
        }
      ],
      "source": [
        "dataframe_results = pd.DataFrame.from_dict(results, orient='index', columns=[\n",
        "    'Accuracy',\n",
        "    'Precision',\n",
        "    'Recall',\n",
        "    'F1_score',\n",
        "    'Training time total'\n",
        "])\n",
        "\n",
        "dataframe_results"
      ]
    },
    {
      "cell_type": "code",
      "source": [
        "dataframe_results.drop('Training time total', axis=1, inplace=True)"
      ],
      "metadata": {
        "id": "vszhfezCDie5"
      },
      "id": "vszhfezCDie5",
      "execution_count": 68,
      "outputs": []
    },
    {
      "cell_type": "code",
      "source": [
        "def plot_cv_score(frame_scores, cmap):\n",
        "    fig, ax  = plt.subplots(1,1, figsize = (14,5))\n",
        "\n",
        "    frame_scores.plot.bar(ax = ax, cmap = cmap, edgecolor = \"black\")\n",
        "    ax.legend(loc = 'best')\n",
        "    ax.set_title(\"Cross validation Scores for each model\")\n",
        "    plt.xticks(rotation = 0)"
      ],
      "metadata": {
        "id": "1fxWMu3i8iTV"
      },
      "id": "1fxWMu3i8iTV",
      "execution_count": 69,
      "outputs": []
    },
    {
      "cell_type": "code",
      "source": [
        "plot_cv_score(dataframe_results, 'viridis')"
      ],
      "metadata": {
        "colab": {
          "base_uri": "https://localhost:8080/",
          "height": 468
        },
        "id": "DJOaNlK48lCf",
        "outputId": "bda55f34-a915-4144-d2e2-c62a76eb22ee"
      },
      "id": "DJOaNlK48lCf",
      "execution_count": 70,
      "outputs": [
        {
          "output_type": "display_data",
          "data": {
            "text/plain": [
              "<Figure size 1400x500 with 1 Axes>"
            ],
            "image/png": "[encoded data removed]"
          },
          "metadata": {}
        }
      ]
    },
    {
      "cell_type": "code",
      "source": [
        "cardio.head()"
      ],
      "metadata": {
        "colab": {
          "base_uri": "https://localhost:8080/",
          "height": 256
        },
        "id": "D8ljYqnTRt7X",
        "outputId": "75011eb1-5787-438a-876c-6aefb4328292"
      },
      "id": "D8ljYqnTRt7X",
      "execution_count": 71,
      "outputs": [
        {
          "output_type": "execute_result",
          "data": {
            "text/plain": [
              "   HeartDiseaseorAttack  HighBP  HighChol  CholCheck   BMI  Smoker  Stroke  \\\n",
              "0                   0.0     1.0       1.0        1.0  40.0     1.0     0.0   \n",
              "1                   0.0     0.0       0.0        0.0  25.0     1.0     0.0   \n",
              "2                   0.0     1.0       1.0        1.0  28.0     0.0     0.0   \n",
              "3                   0.0     1.0       0.0        1.0  27.0     0.0     0.0   \n",
              "4                   0.0     1.0       1.0        1.0  24.0     0.0     0.0   \n",
              "\n",
              "   Diabetes  PhysActivity  Fruits  ...  AnyHealthcare  NoDocbcCost  GenHlth  \\\n",
              "0       0.0           0.0     0.0  ...            1.0          0.0      5.0   \n",
              "1       0.0           1.0     0.0  ...            0.0          1.0      3.0   \n",
              "2       0.0           0.0     1.0  ...            1.0          1.0      5.0   \n",
              "3       0.0           1.0     1.0  ...            1.0          0.0      2.0   \n",
              "4       0.0           1.0     1.0  ...            1.0          0.0      2.0   \n",
              "\n",
              "   MentHlth  PhysHlth  DiffWalk  Sex   Age  Education  Income  \n",
              "0      18.0      15.0       1.0  0.0   9.0        4.0     3.0  \n",
              "1       0.0       0.0       0.0  0.0   7.0        6.0     1.0  \n",
              "2      30.0      30.0       1.0  0.0   9.0        4.0     8.0  \n",
              "3       0.0       0.0       0.0  0.0  11.0        3.0     6.0  \n",
              "4       3.0       0.0       0.0  0.0  11.0        5.0     4.0  \n",
              "\n",
              "[5 rows x 22 columns]"
            ],
            "text/html": [
              "\n",
              "  <div id=\"df-68fbcda2-7f8c-42e4-8768-1f1919c48545\" class=\"colab-df-container\">\n",
              "    <div>\n",
              "<style scoped>\n",
              "    .dataframe tbody tr th:only-of-type {\n",
              "        vertical-align: middle;\n",
              "    }\n",
              "\n",
              "    .dataframe tbody tr th {\n",
              "        vertical-align: top;\n",
              "    }\n",
              "\n",
              "    .dataframe thead th {\n",
              "        text-align: right;\n",
              "    }\n",
              "</style>\n",
              "<table border=\"1\" class=\"dataframe\">\n",
              "  <thead>\n",
              "    <tr style=\"text-align: right;\">\n",
              "      <th></th>\n",
              "      <th>HeartDiseaseorAttack</th>\n",
              "      <th>HighBP</th>\n",
              "      <th>HighChol</th>\n",
              "      <th>CholCheck</th>\n",
              "      <th>BMI</th>\n",
              "      <th>Smoker</th>\n",
              "      <th>Stroke</th>\n",
              "      <th>Diabetes</th>\n",
              "      <th>PhysActivity</th>\n",
              "      <th>Fruits</th>\n",
              "      <th>...</th>\n",
              "      <th>AnyHealthcare</th>\n",
              "      <th>NoDocbcCost</th>\n",
              "      <th>GenHlth</th>\n",
              "      <th>MentHlth</th>\n",
              "      <th>PhysHlth</th>\n",
              "      <th>DiffWalk</th>\n",
              "      <th>Sex</th>\n",
              "      <th>Age</th>\n",
              "      <th>Education</th>\n",
              "      <th>Income</th>\n",
              "    </tr>\n",
              "  </thead>\n",
              "  <tbody>\n",
              "    <tr>\n",
              "      <th>0</th>\n",
              "      <td>0.0</td>\n",
              "      <td>1.0</td>\n",
              "      <td>1.0</td>\n",
              "      <td>1.0</td>\n",
              "      <td>40.0</td>\n",
              "      <td>1.0</td>\n",
              "      <td>0.0</td>\n",
              "      <td>0.0</td>\n",
              "      <td>0.0</td>\n",
              "      <td>0.0</td>\n",
              "      <td>...</td>\n",
              "      <td>1.0</td>\n",
              "      <td>0.0</td>\n",
              "      <td>5.0</td>\n",
              "      <td>18.0</td>\n",
              "      <td>15.0</td>\n",
              "      <td>1.0</td>\n",
              "      <td>0.0</td>\n",
              "      <td>9.0</td>\n",
              "      <td>4.0</td>\n",
              "      <td>3.0</td>\n",
              "    </tr>\n",
              "    <tr>\n",
              "      <th>1</th>\n",
              "      <td>0.0</td>\n",
              "      <td>0.0</td>\n",
              "      <td>0.0</td>\n",
              "      <td>0.0</td>\n",
              "      <td>25.0</td>\n",
              "      <td>1.0</td>\n",
              "      <td>0.0</td>\n",
              "      <td>0.0</td>\n",
              "      <td>1.0</td>\n",
              "      <td>0.0</td>\n",
              "      <td>...</td>\n",
              "      <td>0.0</td>\n",
              "      <td>1.0</td>\n",
              "      <td>3.0</td>\n",
              "      <td>0.0</td>\n",
              "      <td>0.0</td>\n",
              "      <td>0.0</td>\n",
              "      <td>0.0</td>\n",
              "      <td>7.0</td>\n",
              "      <td>6.0</td>\n",
              "      <td>1.0</td>\n",
              "    </tr>\n",
              "    <tr>\n",
              "      <th>2</th>\n",
              "      <td>0.0</td>\n",
              "      <td>1.0</td>\n",
              "      <td>1.0</td>\n",
              "      <td>1.0</td>\n",
              "      <td>28.0</td>\n",
              "      <td>0.0</td>\n",
              "      <td>0.0</td>\n",
              "      <td>0.0</td>\n",
              "      <td>0.0</td>\n",
              "      <td>1.0</td>\n",
              "      <td>...</td>\n",
              "      <td>1.0</td>\n",
              "      <td>1.0</td>\n",
              "      <td>5.0</td>\n",
              "      <td>30.0</td>\n",
              "      <td>30.0</td>\n",
              "      <td>1.0</td>\n",
              "      <td>0.0</td>\n",
              "      <td>9.0</td>\n",
              "      <td>4.0</td>\n",
              "      <td>8.0</td>\n",
              "    </tr>\n",
              "    <tr>\n",
              "      <th>3</th>\n",
              "      <td>0.0</td>\n",
              "      <td>1.0</td>\n",
              "      <td>0.0</td>\n",
              "      <td>1.0</td>\n",
              "      <td>27.0</td>\n",
              "      <td>0.0</td>\n",
              "      <td>0.0</td>\n",
              "      <td>0.0</td>\n",
              "      <td>1.0</td>\n",
              "      <td>1.0</td>\n",
              "      <td>...</td>\n",
              "      <td>1.0</td>\n",
              "      <td>0.0</td>\n",
              "      <td>2.0</td>\n",
              "      <td>0.0</td>\n",
              "      <td>0.0</td>\n",
              "      <td>0.0</td>\n",
              "      <td>0.0</td>\n",
              "      <td>11.0</td>\n",
              "      <td>3.0</td>\n",
              "      <td>6.0</td>\n",
              "    </tr>\n",
              "    <tr>\n",
              "      <th>4</th>\n",
              "      <td>0.0</td>\n",
              "      <td>1.0</td>\n",
              "      <td>1.0</td>\n",
              "      <td>1.0</td>\n",
              "      <td>24.0</td>\n",
              "      <td>0.0</td>\n",
              "      <td>0.0</td>\n",
              "      <td>0.0</td>\n",
              "      <td>1.0</td>\n",
              "      <td>1.0</td>\n",
              "      <td>...</td>\n",
              "      <td>1.0</td>\n",
              "      <td>0.0</td>\n",
              "      <td>2.0</td>\n",
              "      <td>3.0</td>\n",
              "      <td>0.0</td>\n",
              "      <td>0.0</td>\n",
              "      <td>0.0</td>\n",
              "      <td>11.0</td>\n",
              "      <td>5.0</td>\n",
              "      <td>4.0</td>\n",
              "    </tr>\n",
              "  </tbody>\n",
              "</table>\n",
              "<p>5 rows × 22 columns</p>\n",
              "</div>\n",
              "    <div class=\"colab-df-buttons\">\n",
              "\n",
              "  <div class=\"colab-df-container\">\n",
              "    <button class=\"colab-df-convert\" onclick=\"convertToInteractive('df-68fbcda2-7f8c-42e4-8768-1f1919c48545')\"\n",
              "            title=\"Convert this dataframe to an interactive table.\"\n",
              "            style=\"display:none;\">\n",
              "\n",
              "  <svg xmlns=\"http://www.w3.org/2000/svg\" height=\"24px\" viewBox=\"0 -960 960 960\">\n",
              "    <path d=\"M120-120v-720h720v720H120Zm60-500h600v-160H180v160Zm220 220h160v-160H400v160Zm0 220h160v-160H400v160ZM180-400h160v-160H180v160Zm440 0h160v-160H620v160ZM180-180h160v-160H180v160Zm440 0h160v-160H620v160Z\"/>\n",
              "  </svg>\n",
              "    </button>\n",
              "\n",
              "  <style>\n",
              "    .colab-df-container {\n",
              "      display:flex;\n",
              "      gap: 12px;\n",
              "    }\n",
              "\n",
              "    .colab-df-convert {\n",
              "      background-color: #E8F0FE;\n",
              "      border: none;\n",
              "      border-radius: 50%;\n",
              "      cursor: pointer;\n",
              "      display: none;\n",
              "      fill: #1967D2;\n",
              "      height: 32px;\n",
              "      padding: 0 0 0 0;\n",
              "      width: 32px;\n",
              "    }\n",
              "\n",
              "    .colab-df-convert:hover {\n",
              "      background-color: #E2EBFA;\n",
              "      box-shadow: 0px 1px 2px rgba(60, 64, 67, 0.3), 0px 1px 3px 1px rgba(60, 64, 67, 0.15);\n",
              "      fill: #174EA6;\n",
              "    }\n",
              "\n",
              "    .colab-df-buttons div {\n",
              "      margin-bottom: 4px;\n",
              "    }\n",
              "\n",
              "    [theme=dark] .colab-df-convert {\n",
              "      background-color: #3B4455;\n",
              "      fill: #D2E3FC;\n",
              "    }\n",
              "\n",
              "    [theme=dark] .colab-df-convert:hover {\n",
              "      background-color: #434B5C;\n",
              "      box-shadow: 0px 1px 3px 1px rgba(0, 0, 0, 0.15);\n",
              "      filter: drop-shadow(0px 1px 2px rgba(0, 0, 0, 0.3));\n",
              "      fill: #FFFFFF;\n",
              "    }\n",
              "  </style>\n",
              "\n",
              "    <script>\n",
              "      const buttonEl =\n",
              "        document.querySelector('#df-68fbcda2-7f8c-42e4-8768-1f1919c48545 button.colab-df-convert');\n",
              "      buttonEl.style.display =\n",
              "        google.colab.kernel.accessAllowed ? 'block' : 'none';\n",
              "\n",
              "      async function convertToInteractive(key) {\n",
              "        const element = document.querySelector('#df-68fbcda2-7f8c-42e4-8768-1f1919c48545');\n",
              "        const dataTable =\n",
              "          await google.colab.kernel.invokeFunction('convertToInteractive',\n",
              "                                                    [key], {});\n",
              "        if (!dataTable) return;\n",
              "\n",
              "        const docLinkHtml = 'Like what you see? Visit the ' +\n",
              "          '<a target=\"_blank\" href=https://colab.research.google.com/notebooks/data_table.ipynb>data table notebook</a>'\n",
              "          + ' to learn more about interactive tables.';\n",
              "        element.innerHTML = '';\n",
              "        dataTable['output_type'] = 'display_data';\n",
              "        await google.colab.output.renderOutput(dataTable, element);\n",
              "        const docLink = document.createElement('div');\n",
              "        docLink.innerHTML = docLinkHtml;\n",
              "        element.appendChild(docLink);\n",
              "      }\n",
              "    </script>\n",
              "  </div>\n",
              "\n",
              "\n",
              "<div id=\"df-2a978fd8-5067-4ceb-9824-74157d61743a\">\n",
              "  <button class=\"colab-df-quickchart\" onclick=\"quickchart('df-2a978fd8-5067-4ceb-9824-74157d61743a')\"\n",
              "            title=\"Suggest charts\"\n",
              "            style=\"display:none;\">\n",
              "\n",
              "<svg xmlns=\"http://www.w3.org/2000/svg\" height=\"24px\"viewBox=\"0 0 24 24\"\n",
              "     width=\"24px\">\n",
              "    <g>\n",
              "        <path d=\"M19 3H5c-1.1 0-2 .9-2 2v14c0 1.1.9 2 2 2h14c1.1 0 2-.9 2-2V5c0-1.1-.9-2-2-2zM9 17H7v-7h2v7zm4 0h-2V7h2v10zm4 0h-2v-4h2v4z\"/>\n",
              "    </g>\n",
              "</svg>\n",
              "  </button>\n",
              "\n",
              "<style>\n",
              "  .colab-df-quickchart {\n",
              "      --bg-color: #E8F0FE;\n",
              "      --fill-color: #1967D2;\n",
              "      --hover-bg-color: #E2EBFA;\n",
              "      --hover-fill-color: #174EA6;\n",
              "      --disabled-fill-color: #AAA;\n",
              "      --disabled-bg-color: #DDD;\n",
              "  }\n",
              "\n",
              "  [theme=dark] .colab-df-quickchart {\n",
              "      --bg-color: #3B4455;\n",
              "      --fill-color: #D2E3FC;\n",
              "      --hover-bg-color: #434B5C;\n",
              "      --hover-fill-color: #FFFFFF;\n",
              "      --disabled-bg-color: #3B4455;\n",
              "      --disabled-fill-color: #666;\n",
              "  }\n",
              "\n",
              "  .colab-df-quickchart {\n",
              "    background-color: var(--bg-color);\n",
              "    border: none;\n",
              "    border-radius: 50%;\n",
              "    cursor: pointer;\n",
              "    display: none;\n",
              "    fill: var(--fill-color);\n",
              "    height: 32px;\n",
              "    padding: 0;\n",
              "    width: 32px;\n",
              "  }\n",
              "\n",
              "  .colab-df-quickchart:hover {\n",
              "    background-color: var(--hover-bg-color);\n",
              "    box-shadow: 0 1px 2px rgba(60, 64, 67, 0.3), 0 1px 3px 1px rgba(60, 64, 67, 0.15);\n",
              "    fill: var(--button-hover-fill-color);\n",
              "  }\n",
              "\n",
              "  .colab-df-quickchart-complete:disabled,\n",
              "  .colab-df-quickchart-complete:disabled:hover {\n",
              "    background-color: var(--disabled-bg-color);\n",
              "    fill: var(--disabled-fill-color);\n",
              "    box-shadow: none;\n",
              "  }\n",
              "\n",
              "  .colab-df-spinner {\n",
              "    border: 2px solid var(--fill-color);\n",
              "    border-color: transparent;\n",
              "    border-bottom-color: var(--fill-color);\n",
              "    animation:\n",
              "      spin 1s steps(1) infinite;\n",
              "  }\n",
              "\n",
              "  @keyframes spin {\n",
              "    0% {\n",
              "      border-color: transparent;\n",
              "      border-bottom-color: var(--fill-color);\n",
              "      border-left-color: var(--fill-color);\n",
              "    }\n",
              "    20% {\n",
              "      border-color: transparent;\n",
              "      border-left-color: var(--fill-color);\n",
              "      border-top-color: var(--fill-color);\n",
              "    }\n",
              "    30% {\n",
              "      border-color: transparent;\n",
              "      border-left-color: var(--fill-color);\n",
              "      border-top-color: var(--fill-color);\n",
              "      border-right-color: var(--fill-color);\n",
              "    }\n",
              "    40% {\n",
              "      border-color: transparent;\n",
              "      border-right-color: var(--fill-color);\n",
              "      border-top-color: var(--fill-color);\n",
              "    }\n",
              "    60% {\n",
              "      border-color: transparent;\n",
              "      border-right-color: var(--fill-color);\n",
              "    }\n",
              "    80% {\n",
              "      border-color: transparent;\n",
              "      border-right-color: var(--fill-color);\n",
              "      border-bottom-color: var(--fill-color);\n",
              "    }\n",
              "    90% {\n",
              "      border-color: transparent;\n",
              "      border-bottom-color: var(--fill-color);\n",
              "    }\n",
              "  }\n",
              "</style>\n",
              "\n",
              "  <script>\n",
              "    async function quickchart(key) {\n",
              "      const quickchartButtonEl =\n",
              "        document.querySelector('#' + key + ' button');\n",
              "      quickchartButtonEl.disabled = true;  // To prevent multiple clicks.\n",
              "      quickchartButtonEl.classList.add('colab-df-spinner');\n",
              "      try {\n",
              "        const charts = await google.colab.kernel.invokeFunction(\n",
              "            'suggestCharts', [key], {});\n",
              "      } catch (error) {\n",
              "        console.error('Error during call to suggestCharts:', error);\n",
              "      }\n",
              "      quickchartButtonEl.classList.remove('colab-df-spinner');\n",
              "      quickchartButtonEl.classList.add('colab-df-quickchart-complete');\n",
              "    }\n",
              "    (() => {\n",
              "      let quickchartButtonEl =\n",
              "        document.querySelector('#df-2a978fd8-5067-4ceb-9824-74157d61743a button');\n",
              "      quickchartButtonEl.style.display =\n",
              "        google.colab.kernel.accessAllowed ? 'block' : 'none';\n",
              "    })();\n",
              "  </script>\n",
              "</div>\n",
              "    </div>\n",
              "  </div>\n"
            ],
            "application/vnd.google.colaboratory.intrinsic+json": {
              "type": "dataframe",
              "variable_name": "cardio"
            }
          },
          "metadata": {},
          "execution_count": 71
        }
      ]
    },
    {
      "cell_type": "code",
      "source": [
        "new_data = pd.DataFrame({\n",
        "      \"HighBP\": [1],\n",
        "      \"HighChol\": [0],\n",
        "      \"CholCheck\": [1],\n",
        "      \"BMI\": [1],\n",
        "      \"Smoker\": [1],\n",
        "      \"Stroke\": [0],\n",
        "      \"Diabetes\": [0],\n",
        "      \"PhysActivity\": [1],\n",
        "      \"Fruits\": [1],\n",
        "      \"Veggies\": [1],\n",
        "      \"HvyAlcoholConsump\": [1],\n",
        "      \"AnyHealthcare\": [1],\n",
        "      \"NoDocbcCost\": [0],\n",
        "      \"GenHlth\": [5],\n",
        "      \"MentHlth\": [20],\n",
        "      \"PhysHlth\": [30],\n",
        "      \"DiffWalk\": [1],\n",
        "      \"Sex\": [1],\n",
        "      \"Age\": [45],\n",
        "      \"Education\": [5],\n",
        "      \"Income\": [2]\n",
        "  })\n",
        "\n",
        "predicted_value = logistic_model.predict(new_data)[0]\n",
        "print(\"Predicted Value per Logistic Regression: %.2f\" % predicted_value)\n",
        "predicted_value = knn_model.predict(new_data)[0]\n",
        "print(\"Predicted Value per KNN: %.2f\" % predicted_value)\n",
        "predicted_value = random_forest_model.predict(new_data)[0]\n",
        "print(\"Predicted Value per Random Forest: %.2f\" % predicted_value)\n",
        "predicted_value = decision_tree_model.predict(new_data)[0]\n",
        "print(\"Predicted Value per Decision Tree: %.2f\" % predicted_value)\n",
        "predicted_value = neural_network_model.predict(new_data)[0]\n",
        "print(\"Predicted Value per Neural Network: %.2f\" % predicted_value)"
      ],
      "metadata": {
        "id": "NsFVulIGdPgz",
        "colab": {
          "base_uri": "https://localhost:8080/"
        },
        "outputId": "74504649-eb61-4ed1-ae06-c7610d546364"
      },
      "id": "NsFVulIGdPgz",
      "execution_count": 91,
      "outputs": [
        {
          "output_type": "stream",
          "name": "stdout",
          "text": [
            "Predicted Value per Logistic Regression: 1.00\n",
            "Predicted Value per KNN: 0.00\n",
            "Predicted Value per Random Forest: 0.00\n",
            "Predicted Value per Decision Tree: 0.00\n",
            "Predicted Value per Neural Network: 0.00\n"
          ]
        }
      ]
    }
  ],
  "metadata": {
    "kaggle": {
      "accelerator": "none",
      "dataSources": [
        {
          "datasetId": 107706,
          "sourceId": 256873,
          "sourceType": "datasetVersion"
        },
        {
          "datasetId": 1690571,
          "sourceId": 3277449,
          "sourceType": "datasetVersion"
        }
      ],
      "dockerImageVersionId": 30673,
      "isGpuEnabled": false,
      "isInternetEnabled": true,
      "language": "python",
      "sourceType": "notebook"
    },
    "kernelspec": {
      "display_name": "Python 3 (ipykernel)",
      "language": "python",
      "name": "python3"
    },
    "language_info": {
      "codemirror_mode": {
        "name": "ipython",
        "version": 3
      },
      "file_extension": ".py",
      "mimetype": "text/x-python",
      "name": "python",
      "nbconvert_exporter": "python",
      "pygments_lexer": "ipython3",
      "version": "3.11.5"
    },
    "papermill": {
      "default_parameters": {},
      "duration": 246.455525,
      "end_time": "2024-03-28T17:24:31.989066",
      "environment_variables": {},
      "exception": null,
      "input_path": "__notebook__.ipynb",
      "output_path": "__notebook__.ipynb",
      "parameters": {},
      "start_time": "2024-03-28T17:20:25.533541",
      "version": "2.5.0"
    },
    "colab": {
      "provenance": []
    }
  },
  "nbformat": 4,
  "nbformat_minor": 5
}